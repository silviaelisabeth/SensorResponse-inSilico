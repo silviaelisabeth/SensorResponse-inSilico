{
 "cells": [
  {
   "cell_type": "code",
   "execution_count": 465,
   "metadata": {},
   "outputs": [],
   "source": [
    "%run dbs_CodeSnippes.py\n",
    "%matplotlib inline\n",
    "\n",
    "pd.set_option('display.float_format', '{:.2f}'.format)"
   ]
  },
  {
   "attachments": {},
   "cell_type": "markdown",
   "metadata": {},
   "source": [
    "##### USER INPUT REQUIRED"
   ]
  },
  {
   "cell_type": "code",
   "execution_count": 466,
   "metadata": {},
   "outputs": [],
   "source": [
    "#### set parameter IntroPage - user input\n",
    "tsteady = (75, 's')                         # tuple of plateau time and unit\n",
    "ph_t90 = (20, 's')                          # tuple of response time of pH sensor and unit\n",
    "para2_t90 = (70, 's')                       # tuple of response time of second sensor sensing one analyte of the corresponding acid/base pair and unit\n",
    "\n",
    "# UNITS ALLOWED: ppm, mg/L\n",
    "paraSum_conc =  (100., 'ppm')              # tuple of concentration of the total parameter and unit\n",
    "ph_edit = [4., 9.5, 11.05, 7.6]            # list of pH values\n",
    "para2_name = ('NH4+','NH3', 'TAN')         # specify the corresponding acid/base pair and the measured analyte. \n",
    "                                           # either choose from a pre-defined system and select either NH3 or NH4+ for TAN or H2S or HS- for TDS system. \n",
    "                                           # if another system should be specified, describe the system as a tuple the following way:\n",
    "                                           #### ('measured analyte', 'corresponding pair', 'total parameter') ###\n",
    "para2_pka = 9.43                           # pKa value or equilibirum constant for given corresponding acid/base pair\n",
    "\n",
    "response_curve = 'individual'              # specify which sensor response curve shall be used. use either 'default' or 'individual'.\n",
    "                                           # when default is used, the standard Gompertz reationship is used; otherwise the user is welcome to specify \n",
    "                                           # their own response curves. In the latter case, additional properties and parameters are  required to fit \n",
    "                                           # in the provided pipeline of the code. Please refer to the manual for inidividual sensor response curves."
   ]
  },
  {
   "cell_type": "code",
   "execution_count": 467,
   "metadata": {},
   "outputs": [
    {
     "name": "stdout",
     "output_type": "stream",
     "text": [
      "USER INPUT REQUIRED. Please, specify your sensor response and respective parameters her before continuing.\n"
     ]
    }
   ],
   "source": [
    "#### USER INPUT · Define sensor response curve\n",
    "if response_curve == 'default':\n",
    "    # pH sensor response curve and related parameter settings    \n",
    "    func_resp_pH = _gompertz_curve_v1\n",
    "    presponse_ph = dict({'t90': sensor_ph['t90'], 'tau': sensor_ph['resolution'], 'slope': 'increase'})\n",
    "    \n",
    "    # sensor response curve for the measurement sensor and related parameter settings    \n",
    "    func_resp_meas = _gompertz_curve_v1\n",
    "    presponse_meas = dict({'t90': sensor_para2['t90'], 'tau': sensor_para2['resolution'], 'slope': 'increase'})\n",
    "\n",
    "elif response_curve == 'individual':\n",
    "    print('USER INPUT REQUIRED. Please, specify your sensor response and respective parameters her before continuing.')\n",
    "    # pH sensor response curve and related parameter settings    \n",
    "    func_resp_pH = None\n",
    "    presponse_ph = None \n",
    "    \n",
    "    # sensor response curve for the measurement sensor and related parameter settings    \n",
    "    func_resp_meas = None\n",
    "    presponse_meas = None\n",
    "    \n",
    "else:\n",
    "    raise ValueError('Please do not confuse the algorithm. \\nEither use *default* when the Gompertz curve shall be used as sensor response.'+\n",
    "                     'Otherwise set response_curve as *individual* and define your response curve and respective parameters above.')"
   ]
  },
  {
   "attachments": {},
   "cell_type": "markdown",
   "metadata": {},
   "source": [
    "##### Run Simulation"
   ]
  },
  {
   "cell_type": "code",
   "execution_count": 468,
   "metadata": {},
   "outputs": [],
   "source": [
    "###### Prepare parameters\n",
    "# get the names and parameter labels for the specified system\n",
    "[para2_grp, para3_grp, total_para_grp, para2, para3, total_para, analyte] = _getAnalyteSystem(para2_name)\n",
    "\n",
    "# check if all required variables are defined and have the same units \n",
    "[sensor_ph, sensor_para2, \n",
    " para_meas] = check_parameter(analyte=analyte, paraSum_conc_edit=str(paraSum_conc[0]), ph_edit=str(ph_edit)[1:-1], \n",
    "                              para2_pka_edit=para2_pka, tsteady_edit=tsteady, ph_t90_edit=ph_t90, para2_t90_edit=para2_t90)"
   ]
  },
  {
   "cell_type": "code",
   "execution_count": 469,
   "metadata": {},
   "outputs": [
    {
     "ename": "ValueError",
     "evalue": "WARNING: Please make sure that all sensor response curves are specified.",
     "output_type": "error",
     "traceback": [
      "\u001b[0;31m---------------------------------------------------------------------------\u001b[0m",
      "\u001b[0;31mValueError\u001b[0m                                Traceback (most recent call last)",
      "Cell \u001b[0;32mIn[469], line 15\u001b[0m\n\u001b[1;32m     10\u001b[0m             [df_res, ls_lines, ls_xcoords, \n\u001b[1;32m     11\u001b[0m             vlines_list] \u001b[39m=\u001b[39m run_simulation_divResponses(sensor_ph\u001b[39m=\u001b[39msensor_ph, sensor_para2\u001b[39m=\u001b[39msensor_para2, para_meas\u001b[39m=\u001b[39mpara_meas, paraSum_unit\u001b[39m=\u001b[39mparaSum_conc[\u001b[39m1\u001b[39m], \n\u001b[1;32m     12\u001b[0m                                                         func_resp_pH\u001b[39m=\u001b[39mfunc_resp_pH, presponse_ph\u001b[39m=\u001b[39mpresponse_ph, func_resp_meas\u001b[39m=\u001b[39mfunc_resp_pH, \n\u001b[1;32m     13\u001b[0m                                                         presponse_meas\u001b[39m=\u001b[39mpresponse_meas) \n\u001b[1;32m     14\u001b[0m         \u001b[39melse\u001b[39;00m:\n\u001b[0;32m---> 15\u001b[0m            \u001b[39mraise\u001b[39;00m \u001b[39mValueError\u001b[39;00m(\u001b[39m\"\u001b[39m\u001b[39mWARNING: Please make sure that all sensor response curves are specified.\u001b[39m\u001b[39m\"\u001b[39m) \n\u001b[1;32m     16\u001b[0m df_res\u001b[39m.\u001b[39mhead()\n",
      "\u001b[0;31mValueError\u001b[0m: WARNING: Please make sure that all sensor response curves are specified."
     ]
    }
   ],
   "source": [
    "##### RUN the simulation\n",
    "if float(sensor_ph['t90']) == 0:\n",
    "    raise ValueError(\"WARNING: Please enter a valid sensor response time for the pH sensor, in particular a number > 0\")\n",
    "else:\n",
    "    if float(sensor_para2['t90']) == 0:\n",
    "        raise ValueError(\"WARNING: Please enter a valid sensor response time for the pH sensor, in particular a number > 0\")\n",
    "    else:\n",
    "        if func_resp_pH and func_resp_meas:\n",
    "            # in case parameter check was successful, start run_simulation\n",
    "            [df_res, ls_lines, ls_xcoords, \n",
    "            vlines_list] = run_simulation_divResponses(sensor_ph=sensor_ph, sensor_para2=sensor_para2, para_meas=para_meas, paraSum_unit=paraSum_conc[1], \n",
    "                                                        func_resp_pH=func_resp_pH, presponse_ph=presponse_ph, func_resp_meas=func_resp_pH, \n",
    "                                                        presponse_meas=presponse_meas) \n",
    "        else:\n",
    "           raise ValueError(\"WARNING: Please make sure that all sensor response curves are specified.\") \n",
    "df_res.head()"
   ]
  },
  {
   "attachments": {},
   "cell_type": "markdown",
   "metadata": {},
   "source": [
    "### Plot Results"
   ]
  },
  {
   "cell_type": "code",
   "execution_count": 472,
   "metadata": {},
   "outputs": [],
   "source": [
    "### plot pH and acid base pair (target vs sensor response)\n",
    "if df_res:\n",
    "    fig_ph, ax_ph = plot_phSensor(df_res, fgs=(5.5, 3.25))\n",
    "    fig_pair, ax_pair, ax_pair1 = plot_AcidBasePair(para2_grp, para3_grp, df_res, fgs=(5.5, 3.25))"
   ]
  },
  {
   "cell_type": "code",
   "execution_count": 473,
   "metadata": {},
   "outputs": [],
   "source": [
    "## total parameter (target vs sensor response)\n",
    "if df_res:\n",
    "    # Figure 1 · Overview displaying the entire error/offset\n",
    "    fig_sum, ax_sum = plot_totalParameter(total_para_grp, total_para, df_res, ylim=None, fgs=(5.5, 3.5))\n",
    "\n",
    "    # Figure 2 · Zoom-in +/-10% around target concentration\n",
    "    fig_sum, ax_sum = plot_totalParameter(total_para_grp, total_para, df_res, ylim='10%', fgs=(5.5, 3.5))"
   ]
  },
  {
   "attachments": {},
   "cell_type": "markdown",
   "metadata": {},
   "source": [
    "#### Determine error via integration"
   ]
  },
  {
   "cell_type": "code",
   "execution_count": 475,
   "metadata": {},
   "outputs": [],
   "source": [
    "### USER-INPUT · define the integration range that shall be analysed\n",
    "ls_xcoords = [(75, 245), (245, 300)]\n",
    "\n",
    "# -----------------------------------------------------------------------------------------------------------------------\n",
    "res_integral = None\n",
    "if df_res:\n",
    "    # calculate the error within given integral ranges \n",
    "    res_integral = calculate_integralError(ls_xcoords=ls_xcoords, df_res=df_res, sensor_ph=sensor_ph, \n",
    "                                           sensor_para2=sensor_para2, para2_name=para2_name, paraSum_conc=paraSum_conc)\n",
    "res_integral"
   ]
  },
  {
   "cell_type": "code",
   "execution_count": null,
   "metadata": {},
   "outputs": [],
   "source": []
  }
 ],
 "metadata": {
  "kernelspec": {
   "display_name": "Python 3",
   "language": "python",
   "name": "python3"
  },
  "language_info": {
   "codemirror_mode": {
    "name": "ipython",
    "version": 3
   },
   "file_extension": ".py",
   "mimetype": "text/x-python",
   "name": "python",
   "nbconvert_exporter": "python",
   "pygments_lexer": "ipython3",
   "version": "3.9.16"
  },
  "orig_nbformat": 4,
  "vscode": {
   "interpreter": {
    "hash": "b4bfca5ac0429b62381be6604469258c13b8bce0fd5252c063d1f68fa71c3687"
   }
  }
 },
 "nbformat": 4,
 "nbformat_minor": 2
}
