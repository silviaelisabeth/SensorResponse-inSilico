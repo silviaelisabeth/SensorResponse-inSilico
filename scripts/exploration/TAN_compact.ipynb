{
 "cells": [
  {
   "cell_type": "code",
   "execution_count": 1,
   "id": "3aea802d",
   "metadata": {},
   "outputs": [
    {
     "name": "stdout",
     "output_type": "stream",
     "text": [
      "Using matplotlib backend: MacOSX\n"
     ]
    }
   ],
   "source": [
    "%run basics_sensorSignal.py\n",
    "%matplotlib"
   ]
  },
  {
   "cell_type": "markdown",
   "id": "dccf5561",
   "metadata": {},
   "source": [
    "#### TAN = c(NH$_3$ + c(NH$_4^+$)"
   ]
  },
  {
   "cell_type": "code",
   "execution_count": 2,
   "id": "c66deb1c",
   "metadata": {},
   "outputs": [
    {
     "name": "stdout",
     "output_type": "stream",
     "text": [
      "puls width:  18.0\n"
     ]
    }
   ],
   "source": [
    "# gloabl parameter\n",
    "c_nh3, c_nh4 = 3.5, 1.               # maximal ammonia concentration \n",
    "# concentration fluctuation\n",
    "tstart, tend, step = 0, 60*3, 0.05   # sec; time range of fluctuation\n",
    "nP = 5.                              # number of cycles per period\n",
    "toc = (tend-tstart) / (2*nP)         # time of change; when concentration changes\n",
    "\n",
    "# sensor settings\n",
    "tstart_sens = 0                       # sec; start time range of sensor response            \n",
    "# sensor 1\n",
    "t_resp1 = 30.                          # sensor1 response time\n",
    "t_sample1 = t_resp1                   # sampling rate of the sensor1; sec\n",
    "# sensor 2\n",
    "t_resp2 = 1.                         # sensor2 response time\n",
    "t_sample2 = t_resp2                   # sampling rate of the sensor2; sec\n",
    "\n",
    "# ........................................................................................\n",
    "# target concentration\n",
    "# concentrations are interdependend - they change at the same time; thus, same pulse width \n",
    "dfconc1, D, P, trange = _target_concentration(nP=nP, c_nh3=c_nh3, tstart=tstart, \n",
    "                                              tstop=tend)\n",
    "dfconc2, D, P, trange = _target_concentration(nP=nP, c_nh3=c_nh4, tstart=tstart, \n",
    "                                              tstop=tend)\n",
    "\n",
    "print('puls width: ', D)\n",
    "# .............................................\n",
    "# sensor time range\n",
    "sens_time0 = np.linspace(0, D, num=int((D - tstart_sens) / step + 1))\n",
    "\n",
    "# .............................................\n",
    "#combining information in dictionary\n",
    "par_target = dict({'conc1': dfconc1, 'conc2': dfconc2, 'pulse width': D})\n",
    "par_meas = dict({'start':tstart, 'stop':tend, 'start sensing': tstart_sens, 'steps': step})\n",
    "par_sens1 = dict({'max conc': c_nh3, 'response time': t_resp1, 'background signal': 5E-5})\n",
    "par_sens2 = dict({'max conc': c_nh4, 'response time': t_resp2, 'background signal': 5E-5})\n",
    "\n",
    "arg_fig = dict({'figsize': (6.5,5), 'fontsize': 10,\n",
    "                'title': 'sensor response to fluctuating analyte concentration'})\n",
    "\n",
    "# ........................................................................................\n",
    "[figTAN, axTAN, figTAN, axTAN1, \n",
    " tan] = plot_2sumresponse(sens_time0=sens_time0, par_target=par_target, arg_fig=arg_fig, \n",
    "                          par_meas=par_meas, par_sens1=par_sens1, par_sens2=par_sens2, \n",
    "                          plotCheck=False)"
   ]
  },
  {
   "cell_type": "code",
   "execution_count": null,
   "id": "85ff90d9",
   "metadata": {},
   "outputs": [],
   "source": []
  }
 ],
 "metadata": {
  "kernelspec": {
   "display_name": "Python 3",
   "language": "python",
   "name": "python3"
  },
  "language_info": {
   "codemirror_mode": {
    "name": "ipython",
    "version": 3
   },
   "file_extension": ".py",
   "mimetype": "text/x-python",
   "name": "python",
   "nbconvert_exporter": "python",
   "pygments_lexer": "ipython3",
   "version": "3.8.8"
  }
 },
 "nbformat": 4,
 "nbformat_minor": 5
}
