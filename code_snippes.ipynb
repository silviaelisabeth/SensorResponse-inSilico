{
 "cells": [
  {
   "cell_type": "code",
   "execution_count": 1,
   "id": "c6e66809",
   "metadata": {},
   "outputs": [
    {
     "name": "stdout",
     "output_type": "stream",
     "text": [
      "Using matplotlib backend: MacOSX\n"
     ]
    }
   ],
   "source": [
    "%run basics_sensorSignal.py\n",
    "%matplotlib"
   ]
  },
  {
   "cell_type": "markdown",
   "id": "75455eb4",
   "metadata": {},
   "source": [
    "#### TAN = c(NH$_3$) + c(NH$_4^+$)"
   ]
  },
  {
   "cell_type": "raw",
   "id": "98c9b1df",
   "metadata": {},
   "source": [
    "usual approach is to measure the pH and one of the analytes, e.g., NH4+\n",
    "Using the Henderson-Hasselbalch equation, leads to the second analyte and ultimately to TAN"
   ]
  },
  {
   "cell_type": "markdown",
   "id": "afdff4c1",
   "metadata": {},
   "source": [
    "sensor response is sigmoidal. It mainly depends on the response time "
   ]
  },
  {
   "cell_type": "code",
   "execution_count": 4,
   "id": "b650334c",
   "metadata": {},
   "outputs": [],
   "source": [
    "c_nh3, step = 2.5, 0.25\n",
    "t = np.linspace(0, 60, num=int(100/step+1))\n",
    "\n",
    "par_sens1 = dict({'max conc': c_nh3, 'response time': 10., 'background signal': 5E-6})\n",
    "par_sens2 = dict({'max conc': c_nh3, 'response time': 50., 'background signal': 5E-6})\n",
    "# ...........................................\n",
    "dfSig1 = _sensor_response(t=t, par_sens=par_sens1, y=0, function='gompertz',\n",
    "                          direction='increase')\n",
    "dfSig2 = _sensor_response(t=t, par_sens=par_sens2, y=0, function='gompertz',\n",
    "                          direction='increase')\n",
    "dfSig3 = _sensor_response(t=t, par_sens=par_sens1, y=c_nh3, function='gompertz',\n",
    "                          direction='decline')\n",
    "dfSig4 = _sensor_response(t=t, par_sens=par_sens2, y=c_nh3, function='gompertz',\n",
    "                          direction='decline')\n",
    "\n",
    "\n",
    "# .........................................................................\n",
    "# plot sensor response\n",
    "fig, ax = plt.subplots(figsize=(7,4))\n",
    "ax.set_title('Sensor response', loc='left')\n",
    "\n",
    "# sensor 1\n",
    "ax.plot(t, dfSig1, 'k', label='fast response')\n",
    "ax.axhline(dfSig1['signal'].max()*0.1, lw=0.5, ls=':', color='darkorange'), \n",
    "ax.axhline(dfSig1['signal'].max()*0.9, lw=0.5, ls=':', color='darkorange')\n",
    "\n",
    "# sensor 2\n",
    "ax.plot(t, dfSig2, ':k', label='slow response')\n",
    "ax.axhline(dfSig2['signal'].max()*0.1, lw=0.5, ls=':', color='crimson'), \n",
    "ax.axhline(dfSig2['signal'].max()*0.9, lw=0.5, ls=':', color='crimson')\n",
    "\n",
    "# sensor 3\n",
    "ax.plot(t, dfSig3, 'slategrey', label='fast response - decline')\n",
    "\n",
    "# sensor 4\n",
    "ax.plot(t, dfSig4, color='slategrey', ls=':', label='slow response - decline')\n",
    "\n",
    "ax.set_xlabel('Time / s'), ax.set_ylabel('Signal / V')\n",
    "plt.legend(loc='lower right', bbox_to_anchor=(1., 0.35))\n",
    "plt.xlim(-5, t[-1]*1.05)\n",
    "sns.despine()"
   ]
  },
  {
   "cell_type": "code",
   "execution_count": 3,
   "id": "4da6bd14",
   "metadata": {},
   "outputs": [],
   "source": []
  },
  {
   "cell_type": "markdown",
   "id": "3f3e31bc",
   "metadata": {},
   "source": [
    "sensor signal depends on concentration as well"
   ]
  },
  {
   "cell_type": "code",
   "execution_count": 8,
   "id": "f93933b3",
   "metadata": {},
   "outputs": [],
   "source": [
    "start_time, end_time = 0, 60\n",
    "nsample, nper = 10*(end_time-start_time), 3\n",
    "dfconc1, D1, P1, t1 = _target_concentration(c_nh3=c_nh3, tstart=start_time, tstop=end_time)\n",
    "dfconc2, D2, P2, t2 = _target_concentration(N=nsample, nP=nper, c_nh3=c_nh3, \n",
    "                                            tstart=start_time, tstop=end_time)\n",
    "\n",
    "# .................................\n",
    "fs = 10\n",
    "fig1, ax1 = plt.subplots(figsize=(7,3))\n",
    "ax1.set_xlabel('Time / s', fontsize=fs)\n",
    "ax1.set_ylabel('Analyte concentration', fontsize=fs)\n",
    "ax1.plot(dfconc1, color='k', lw=1., marker='.', fillstyle='none', \n",
    "         label='N:{:.0f}, period: {:.0f}s, freq: 1'.format(end_time-start_time, P1))\n",
    "ax1.plot(dfconc2, color='darkorange', marker='.', fillstyle='none', lw=0.75,\n",
    "         label='N:{:.0f}, period: {:.0f}s, freq: {:.0f}'.format(nsample, P1, nper))\n",
    "ax1.legend(loc=0, fontsize=fs*0.7) #, ax1.set_ylim(-0.05, 1.6)\n",
    "plt.tight_layout(), sns.despine()\n",
    "plt.show()"
   ]
  },
  {
   "cell_type": "code",
   "execution_count": null,
   "id": "1b58e3ed",
   "metadata": {},
   "outputs": [],
   "source": []
  },
  {
   "cell_type": "markdown",
   "id": "e291fd3d",
   "metadata": {},
   "source": [
    "time to combine\n",
    "\n",
    "signal ~ concentration(t) * response time * some other factors"
   ]
  },
  {
   "cell_type": "code",
   "execution_count": 1,
   "id": "2ebda371",
   "metadata": {},
   "outputs": [
    {
     "ename": "NameError",
     "evalue": "name '_target_concentration' is not defined",
     "output_type": "error",
     "traceback": [
      "\u001b[0;31m---------------------------------------------------------------------------\u001b[0m",
      "\u001b[0;31mNameError\u001b[0m                                 Traceback (most recent call last)",
      "\u001b[0;32m<ipython-input-1-0890e33e0f50>\u001b[0m in \u001b[0;36m<module>\u001b[0;34m\u001b[0m\n\u001b[1;32m     13\u001b[0m \u001b[0;31m# ........................................................................................\u001b[0m\u001b[0;34m\u001b[0m\u001b[0;34m\u001b[0m\u001b[0;34m\u001b[0m\u001b[0m\n\u001b[1;32m     14\u001b[0m \u001b[0;31m# target concentration\u001b[0m\u001b[0;34m\u001b[0m\u001b[0;34m\u001b[0m\u001b[0;34m\u001b[0m\u001b[0m\n\u001b[0;32m---> 15\u001b[0;31m \u001b[0mdfconc\u001b[0m\u001b[0;34m,\u001b[0m \u001b[0mD\u001b[0m\u001b[0;34m,\u001b[0m \u001b[0mP\u001b[0m\u001b[0;34m,\u001b[0m \u001b[0mtrange\u001b[0m \u001b[0;34m=\u001b[0m \u001b[0m_target_concentration\u001b[0m\u001b[0;34m(\u001b[0m\u001b[0mnP\u001b[0m\u001b[0;34m=\u001b[0m\u001b[0mnP\u001b[0m\u001b[0;34m,\u001b[0m \u001b[0mc_nh3\u001b[0m\u001b[0;34m=\u001b[0m\u001b[0mc_nh3\u001b[0m\u001b[0;34m,\u001b[0m \u001b[0mtstart\u001b[0m\u001b[0;34m=\u001b[0m\u001b[0mtstart\u001b[0m\u001b[0;34m,\u001b[0m \u001b[0mtstop\u001b[0m\u001b[0;34m=\u001b[0m\u001b[0mtend\u001b[0m\u001b[0;34m)\u001b[0m\u001b[0;34m\u001b[0m\u001b[0;34m\u001b[0m\u001b[0m\n\u001b[0m\u001b[1;32m     16\u001b[0m \u001b[0mprint\u001b[0m\u001b[0;34m(\u001b[0m\u001b[0;34m'puls width: '\u001b[0m\u001b[0;34m,\u001b[0m \u001b[0mD\u001b[0m\u001b[0;34m)\u001b[0m\u001b[0;34m\u001b[0m\u001b[0;34m\u001b[0m\u001b[0m\n\u001b[1;32m     17\u001b[0m \u001b[0;34m\u001b[0m\u001b[0m\n",
      "\u001b[0;31mNameError\u001b[0m: name '_target_concentration' is not defined"
     ]
    }
   ],
   "source": [
    "# gloabl parameter\n",
    "c_nh3 = 2.5                          # maximal ammonia concentration \n",
    "# concentration fluctuation\n",
    "tstart, tend, step = 0, 60*3, 0.05   # sec; time range of fluctuation\n",
    "nP = 3                               # number of cycles per period\n",
    "toc = (tend-tstart) / (2*nP)         # time of change; when concentration changes\n",
    "\n",
    "# sensor settings\n",
    "tstart_sens = 0                      # sec; start time range of sensor response            \n",
    "t_resp = 20.                         # sensor response time\n",
    "t_sample = 1/2*toc                   # sampling rate of the sensor; sec\n",
    "\n",
    "# ........................................................................................\n",
    "# target concentration\n",
    "dfconc, D, P, trange = _target_concentration(nP=nP, c_nh3=c_nh3, tstart=tstart, tstop=tend)\n",
    "print('puls width: ', D)\n",
    "\n",
    "# .............................................\n",
    "# sensor time range\n",
    "sens_time0 = np.linspace(0, D, num=int((D - tstart_sens) / step + 1))\n",
    "\n",
    "# .............................................\n",
    "# plotting \n",
    "par_meas = dict({'start':tstart, 'stop':tend})\n",
    "par_sens = dict({'max conc': c_nh3, 'response time': t_resp, 'background signal': 5E-5})\n",
    "arg_fig = dict({'figsize': (6,3), 'fontsize': 10,\n",
    "                'title': 'sensor response to fluctuating analyte concentration'})"
   ]
  },
  {
   "cell_type": "code",
   "execution_count": 532,
   "id": "8422599b",
   "metadata": {},
   "outputs": [],
   "source": [
    "fig, ax, dfdata = plot_sensorresponse(dfconc=dfconc, sens_time0=sens_time0, step=step,\n",
    "                                      D=D, tstart_sens=tstart_sens, par_meas=par_meas, \n",
    "                                      par_sens=par_sens, arg_fig=arg_fig, plotCheck=False)\n",
    "\n",
    "#sampling rate / scanning rate of the sensor\n",
    "z, ls_samp, n = t_sample, list(), 0\n",
    "while z < tend:\n",
    "    z = t_sample*n\n",
    "    n +=1\n",
    "    ls_samp.append(z)\n",
    "    if z < tend:\n",
    "        pass #ax.axvline(z, color='darkorange', lw=0.5)"
   ]
  },
  {
   "cell_type": "code",
   "execution_count": null,
   "id": "a51afef7",
   "metadata": {},
   "outputs": [],
   "source": []
  },
  {
   "cell_type": "markdown",
   "id": "3838ea73",
   "metadata": {},
   "source": [
    "### how to extract data?\n",
    "1) geometrical approach - intersection of 2 curves (easy when both curves are actual curves)\n",
    "\n",
    "2) analytical approach"
   ]
  },
  {
   "cell_type": "code",
   "execution_count": 298,
   "id": "c48b66d7",
   "metadata": {},
   "outputs": [],
   "source": [
    "### geometrical approach\n",
    "from shapely.geometry import LineString, Point"
   ]
  },
  {
   "cell_type": "code",
   "execution_count": 493,
   "id": "6e731344",
   "metadata": {},
   "outputs": [],
   "source": [
    "x = np.arange(0, 1000)\n",
    "f = np.arange(0, 1000)\n",
    "g = np.sin(np.arange(0, 10, 0.01) * 2) * 1000\n",
    "\n",
    "plt.plot(x, f)\n",
    "plt.plot(x, g)\n",
    "\n",
    "# convert curves into LineString\n",
    "first_line = LineString(np.column_stack((x, f)))\n",
    "second_line = LineString(np.column_stack((x, g)))\n",
    "intersection = first_line.intersection(second_line)\n",
    "\n",
    "if intersection.geom_type == 'MultiPoint':\n",
    "    plt.plot(*LineString(intersection).xy, 'o')\n",
    "elif intersection.geom_type == 'Point':\n",
    "    plt.plot(*intersection.xy, 'o')\n",
    "    \n",
    "# works when we do have 2 functions and not a straight line"
   ]
  },
  {
   "cell_type": "code",
   "execution_count": null,
   "id": "50f34145",
   "metadata": {},
   "outputs": [],
   "source": []
  },
  {
   "cell_type": "code",
   "execution_count": 533,
   "id": "03409811",
   "metadata": {
    "scrolled": true
   },
   "outputs": [
    {
     "data": {
      "text/plain": [
       "<matplotlib.collections.PathCollection at 0x7ffdb9106850>"
      ]
     },
     "execution_count": 533,
     "metadata": {},
     "output_type": "execute_result"
    }
   ],
   "source": [
    "### analytical approach\n",
    "dfdata.index = [round(l, 2) for l in dfdata.index ]\n",
    "\n",
    "#closest value\n",
    "ls_samp_fit = list(map(lambda s: min(dfdata.index, key=lambda x:abs(x-s)), ls_samp))\n",
    "\n",
    "\n",
    "#add identified intersetion points\n",
    "ax.scatter(dfdata.loc[ls_samp_fit].index, dfdata.loc[ls_samp_fit]['signal'].to_numpy(),\n",
    "           marker='s', s=12, color='#C51D74')"
   ]
  },
  {
   "cell_type": "code",
   "execution_count": 531,
   "id": "8bd2800b",
   "metadata": {},
   "outputs": [],
   "source": [
    "fig1 = plt.figure(figsize=arg_fig['figsize'])\n",
    "fig1.canvas.set_window_title('c(t) depending on sensor sampling rate')\n",
    "ax1 = fig1.add_subplot()\n",
    "\n",
    "ax1.plot(dfconc, lw=1., ls=':', color='gray', label='target concentration')\n",
    "ax1.scatter(dfdata.loc[ls_samp_fit].index, dfdata.loc[ls_samp_fit]['signal'].to_numpy(),\n",
    "           marker='s', s=12, color='#C51D74', label='recorded concentration')\n",
    "ax1.plot(dfdata.loc[ls_samp_fit], ls='-.', lw=1., color='#C51D74')\n",
    "ax1.legend(loc=0, fontsize=8, frameon=True, fancybox=True)\n",
    "\n",
    "ax1.set_ylabel('Analyte concentration $c(t)$')\n",
    "ax1.set_xlabel('Time /s')\n",
    "sns.despine()\n",
    "plt.tight_layout()"
   ]
  },
  {
   "cell_type": "code",
   "execution_count": null,
   "id": "46157748",
   "metadata": {},
   "outputs": [],
   "source": []
  }
 ],
 "metadata": {
  "kernelspec": {
   "display_name": "Python 3",
   "language": "python",
   "name": "python3"
  },
  "language_info": {
   "codemirror_mode": {
    "name": "ipython",
    "version": 3
   },
   "file_extension": ".py",
   "mimetype": "text/x-python",
   "name": "python",
   "nbconvert_exporter": "python",
   "pygments_lexer": "ipython3",
   "version": "3.8.8"
  }
 },
 "nbformat": 4,
 "nbformat_minor": 5
}
