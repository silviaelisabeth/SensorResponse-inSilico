{
 "cells": [
  {
   "cell_type": "code",
   "execution_count": 1,
   "id": "fb45acd8",
   "metadata": {},
   "outputs": [
    {
     "name": "stdout",
     "output_type": "stream",
     "text": [
      "Using matplotlib backend: MacOSX\n"
     ]
    }
   ],
   "source": [
    "from matplotlib.offsetbox import AnchoredOffsetbox, TextArea, HPacker, VPacker\n",
    "\n",
    "%run basics_sensorSignal.py\n",
    "%matplotlib\n",
    "matplotlib.use(\"Qt5Agg\")"
   ]
  },
  {
   "cell_type": "markdown",
   "id": "267e029e",
   "metadata": {},
   "source": [
    "global variables"
   ]
  },
  {
   "cell_type": "code",
   "execution_count": 2,
   "id": "127da4b3",
   "metadata": {},
   "outputs": [
    {
     "name": "stdout",
     "output_type": "stream",
     "text": [
      "Select: (1) Random pH gradient or (2) ramp function? >2\n",
      "Targeted pH changes: [0, 1, 2, 3, 4, 5, 6, 7, 8, 9, 10, 11, 12, 13, 14]\n"
     ]
    }
   ],
   "source": [
    "# sensor characteristics fixed\n",
    "pKa = 9.25                 # pKa of ammonia\n",
    "phmin, phmax = 0, 15       # dynamic range of pH sensor\n",
    "step_ph = 0.01\n",
    "ph_deci = 2                # decimals for sensor sensitivity\n",
    "ph_res = 1e-5              # resolution of the pH sensor \n",
    "t_plateau = 10             # int, time for one pH value in seconds\n",
    "\n",
    "sig_max = 400              # maximal signal response at maximal NH4+ concentration in mV \n",
    "sig_bgd = 5.0              # background signal / offset in mV at 0M NH4+\n",
    "tresp_pH = .1              # response time of pH sensor in seconds\n",
    "E0 = (sig_bgd)/1000        # zero potential of the reference electrode\n",
    "Temp = 25                  # measurement temperature in degC\n",
    "tsteps = 1e-3              # time steps for pH and NH3 sensor (theory)\n",
    "\n",
    "# electrochemical NH3 sensor\n",
    "c_nh4_ppm = 230.             # concentration of ammonium ion at the pKa; in ppm\n",
    "anh3_min, anh3_max = 0, 100  # dynamic range of the NH3 sensor in %\n",
    "anh3_step = .01              # steps for concentration range\n",
    "sigNH3_max = 0.09            # maximal signal at maximal NH3 concentration in mV (pH=1) \n",
    "sigNH3_bgd = 0.02            # background signal / offset in mV at 0M NH3\n",
    "tresp_nh3 = .5               # response time of the NH3 sensor in seconds\n",
    "nh3_res = 1e-9               # resolution of the NH3 sensor \n",
    "smpg_rate = 1.               # sampling rate of NH3 sensor in seconds\n",
    "\n",
    "# --------------------------------------------------------------------------------------\n",
    "# USER INPUT\n",
    "# --------------------------------------------------------------------------------------\n",
    "# time intervals pH fluctuations - step function\n",
    "pH_steps = list(np.arange(phmin, phmax))  # steps of pH changes; linearly or randomly\n",
    "\n",
    "random = input('Select: (1) Random pH gradient or (2) ramp function? >')\n",
    "if random == '1' or random == 'random':\n",
    "    np.random.shuffle(pH_steps)\n",
    "elif random == '2' or random == 'ramp':\n",
    "    pH_steps = pH_steps\n",
    "else:\n",
    "    raise ValueError('Choose between 1 and 2')\n",
    "print('Targeted pH changes:', pH_steps)"
   ]
  },
  {
   "cell_type": "code",
   "execution_count": 3,
   "id": "cb98220c",
   "metadata": {},
   "outputs": [],
   "source": [
    "# collecting parameter within a dictionary\n",
    "sensor_ph = dict({'E0': E0, 't90': tresp_pH, 'resolution': ph_res, 'time steps': tsteps, \n",
    "                  'background signal': sig_bgd, 'sensitivity': ph_deci})\n",
    "sensor_nh3 = dict({'pH range': (phmin, phmax, step_ph), 'sensitivity': ph_deci, 'pKa': pKa,\n",
    "                   'response time': tresp_nh3, 'resolution': nh3_res,\n",
    "                   'time steps': tsteps, 'nh3 range': (anh3_min, anh3_max, anh3_step), \n",
    "                   'signal min': sigNH3_bgd, 'signal max': sigNH3_max})\n",
    "\n",
    "para_meas = dict({'Temperature': Temp, 'Plateau time': t_plateau, 'pH steps': pH_steps,\n",
    "                 'sampling rate': smpg_rate, 'GGW concentration': c_nh4_ppm})\n",
    "\n",
    "# main simulation / modeling function \n",
    "[dtarget, dsens_calib, dsens_rec, \n",
    " dfig, df_tan] = tan_simulation(sensor_ph=sensor_ph, para_meas=para_meas, \n",
    "                                sensor_nh3=sensor_nh3, plot='results')"
   ]
  },
  {
   "cell_type": "code",
   "execution_count": null,
   "id": "8d09c921",
   "metadata": {},
   "outputs": [],
   "source": []
  },
  {
   "cell_type": "code",
   "execution_count": null,
   "id": "bb4dfd32",
   "metadata": {},
   "outputs": [],
   "source": []
  }
 ],
 "metadata": {
  "kernelspec": {
   "display_name": "Python 3",
   "language": "python",
   "name": "python3"
  },
  "language_info": {
   "codemirror_mode": {
    "name": "ipython",
    "version": 3
   },
   "file_extension": ".py",
   "mimetype": "text/x-python",
   "name": "python",
   "nbconvert_exporter": "python",
   "pygments_lexer": "ipython3",
   "version": "3.8.8"
  }
 },
 "nbformat": 4,
 "nbformat_minor": 5
}
