{
 "cells": [
  {
   "cell_type": "code",
   "execution_count": 31,
   "id": "c6e66809",
   "metadata": {},
   "outputs": [
    {
     "name": "stdout",
     "output_type": "stream",
     "text": [
      "Using matplotlib backend: MacOSX\n"
     ]
    }
   ],
   "source": [
    "%run basics_sensorSignal.py\n",
    "%matplotlib"
   ]
  },
  {
   "cell_type": "markdown",
   "id": "75455eb4",
   "metadata": {},
   "source": [
    "#### TAN = c(NH$_3$ + c(NH$_4^+$)"
   ]
  },
  {
   "cell_type": "markdown",
   "id": "afdff4c1",
   "metadata": {},
   "source": [
    "sensor response is sigmoidal. It mainly depends on the response time "
   ]
  },
  {
   "cell_type": "code",
   "execution_count": null,
   "id": "b650334c",
   "metadata": {},
   "outputs": [],
   "source": [
    "c_nh3, step = 1.5, 0.25\n",
    "t = np.linspace(0, 250, num=int(100/step+1))\n",
    "dfSig1, t1_10, t1_90 = _sensor_response(t=t, t_resp=1., conc=c_nh3, function='increase')\n",
    "dfSig2, t2_10, t2_90 = _sensor_response(t=t, t_resp=50., conc=c_nh3, function='increase')\n",
    "dfSig3, t3_10, t3_90 = _sensor_response(t=t, t_resp=50., conc=c_nh3, function='decline')\n",
    "\n",
    "# .........................................................................\n",
    "# plot sensor response\n",
    "fig, ax = plt.subplots(figsize=(7,4))\n",
    "ax.set_title('Sensor response', loc='left')\n",
    "\n",
    "# sensor 1\n",
    "ax.plot(t, dfSig1, 'k', label='fast response')\n",
    "ax.axhline(dfSig1['signal'].max()*0.1, lw=0.5, ls=':', color='darkorange'), \n",
    "ax.axhline(dfSig1['signal'].max()*0.9, lw=0.5, ls=':', color='darkorange')\n",
    "\n",
    "# sensor 2\n",
    "ax.plot(t, dfSig2, '-.k', label='slow response')\n",
    "ax.axhline(dfSig2['signal'].max()*0.1, lw=0.5, ls=':', color='forestgreen'), \n",
    "ax.axhline(dfSig2['signal'].max()*0.9, lw=0.5, ls=':', color='forestgreen')\n",
    "\n",
    "# sensor 3\n",
    "ax.plot(t, dfSig3, ':k', label='declining response')\n",
    "ax.axhline(dfSig3['signal'].max()*0.9, lw=0.5, ls=':', color='forestgreen'), \n",
    "ax.axhline(dfSig3['signal'].max()*0.1, lw=0.5, ls=':', color='forestgreen')\n",
    "\n",
    "ax.set_xlabel('Time / s'), ax.set_ylabel('Signal / V')\n",
    "plt.xlim(-5, 155)\n",
    "sns.despine()\n",
    "plt.legend(loc='lower right', bbox_to_anchor=(1., 0.5))"
   ]
  },
  {
   "cell_type": "code",
   "execution_count": null,
   "id": "4da6bd14",
   "metadata": {},
   "outputs": [],
   "source": []
  },
  {
   "cell_type": "markdown",
   "id": "3f3e31bc",
   "metadata": {},
   "source": [
    "sensor signal depends on concentration as well"
   ]
  },
  {
   "cell_type": "code",
   "execution_count": null,
   "id": "f93933b3",
   "metadata": {},
   "outputs": [],
   "source": [
    "start_time, end_time = 0, 60\n",
    "nsample, nper = 10*(end_time-start_time), 3\n",
    "dfconc1, D1, P1, t1 = _target_concentration(c_nh3=c_nh3, tstart=start_time, tstop=end_time)\n",
    "dfconc2, D2, P2, t2 = _target_concentration(N=nsample, nP=nper, c_nh3=c_nh3, \n",
    "                                            tstart=start_time, tstop=end_time)\n",
    "\n",
    "# .................................\n",
    "fs = 10\n",
    "fig1, ax1 = plt.subplots(figsize=(7,3))\n",
    "ax1.set_xlabel('Time / s', fontsize=fs)\n",
    "ax1.set_ylabel('Analyte concentration', fontsize=fs)\n",
    "ax1.plot(dfconc1, color='k', lw=1., marker='.', fillstyle='none', \n",
    "         label='N:{:.0f}, period: {:.0f}s, freq: 1'.format(end_time-start_time, P1))\n",
    "ax1.plot(dfconc2, color='darkorange', marker='.', fillstyle='none', lw=0.75,\n",
    "         label='N:{:.0f}, period: {:.0f}s, freq: {:.0f}'.format(nsample, P1, nper))\n",
    "ax1.legend(loc=0, fontsize=fs*0.7), ax1.set_ylim(-0.05, 1.6)\n",
    "plt.tight_layout(), sns.despine()\n",
    "plt.show()"
   ]
  },
  {
   "cell_type": "code",
   "execution_count": null,
   "id": "1b58e3ed",
   "metadata": {},
   "outputs": [],
   "source": []
  },
  {
   "cell_type": "markdown",
   "id": "e291fd3d",
   "metadata": {},
   "source": [
    "time to combine\n",
    "\n",
    "signal ~ concentration(t) * response time * some other factors"
   ]
  },
  {
   "cell_type": "code",
   "execution_count": 40,
   "id": "40ae5799",
   "metadata": {},
   "outputs": [],
   "source": [
    "%run basics_sensorSignal.py"
   ]
  },
  {
   "cell_type": "code",
   "execution_count": 49,
   "id": "2ebda371",
   "metadata": {},
   "outputs": [
    {
     "name": "stdout",
     "output_type": "stream",
     "text": [
      "puls width:  25.714285714285715\n",
      "sensor response time parameter:  23.456790123456784\n"
     ]
    }
   ],
   "source": [
    "# gloabl parameter\n",
    "c_nh3 = 2.5                          # maximal ammonia concentration \n",
    "# concentration fluctuation\n",
    "tstart, tend, step = 0, 60*3, 0.05   # sec; time range of fluctuation\n",
    "nP = 3.5                             # number of cycles per period\n",
    "# sensor settings\n",
    "tstart_sens = 0                      # sec; start time range of sensor response            \n",
    "t_resp = 10.                          # sensor response time\n",
    "t_sample = 10.                       # sampling rate of the sensor; sec\n",
    "\n",
    "# .............................................\n",
    "# target concentration\n",
    "dfconc, D, P, trange = _target_concentration(nP=nP, c_nh3=c_nh3, tstart=tstart, tstop=tend)\n",
    "print('puls width: ', D)\n",
    "# .............................................\n",
    "# period (in s) when a measurement point is taken\n",
    "# tsample_, srate = _sampling_time(trange=trange, Wpulse=D, tstart=tstart, tend=tend,\n",
    "#                                 sampling_rate=t_sample)\n",
    "# print('sensor sampling rate: ', srate)\n",
    "\n",
    "# sensor response - how much time until we reach conc_target\n",
    "k = (1/0.9**2-1)*t_resp**2\n",
    "sens_time0 = np.linspace(tstart_sens, t_resp*2, num=int((t_resp*2-tstart_sens)/step+1))\n",
    "print('sensor response time parameter: ', k)\n",
    "\n",
    "# .............................................\n",
    "# plotting \n",
    "par_sens = dict({'max conc': c_nh3, 'response time': t_resp, # 'samling rate': srate,\n",
    "                'response para': k})\n",
    "arg_fig = dict({'figsize': (6,3), 'fontsize': 10,\n",
    "                'title': 'sensor response to fluctuating analyte concentration'})"
   ]
  },
  {
   "cell_type": "code",
   "execution_count": 65,
   "id": "0433db86",
   "metadata": {},
   "outputs": [
    {
     "name": "stdout",
     "output_type": "stream",
     "text": [
      "[0.0, 25.714285714285715, 51.42857142857143, 77.14285714285714, 102.85714285714286, 128.57142857142858, 154.28571428571428, 180.0]\n",
      "0.0 2.5\n",
      "case8 - increase 2.5 2.5 0\n"
     ]
    },
    {
     "ename": "ValueError",
     "evalue": "x and y must have same first dimension, but have shapes (515,) and (401, 1)",
     "output_type": "error",
     "traceback": [
      "\u001b[0;31m---------------------------------------------------------------------------\u001b[0m",
      "\u001b[0;31mValueError\u001b[0m                                Traceback (most recent call last)",
      "\u001b[0;32m<ipython-input-65-0a09ab956e8c>\u001b[0m in \u001b[0;36m<module>\u001b[0;34m\u001b[0m\n\u001b[1;32m     44\u001b[0m \u001b[0;34m\u001b[0m\u001b[0m\n\u001b[1;32m     45\u001b[0m         \u001b[0mddata\u001b[0m\u001b[0;34m[\u001b[0m\u001b[0mtc\u001b[0m\u001b[0;34m]\u001b[0m\u001b[0;34m,\u001b[0m \u001b[0mc_apparent\u001b[0m \u001b[0;34m=\u001b[0m \u001b[0mdf\u001b[0m\u001b[0;34m,\u001b[0m \u001b[0mdf\u001b[0m\u001b[0;34m[\u001b[0m\u001b[0;34m'signal'\u001b[0m\u001b[0;34m]\u001b[0m\u001b[0;34m.\u001b[0m\u001b[0mto_numpy\u001b[0m\u001b[0;34m(\u001b[0m\u001b[0;34m)\u001b[0m\u001b[0;34m[\u001b[0m\u001b[0;34m-\u001b[0m\u001b[0;36m1\u001b[0m\u001b[0;34m]\u001b[0m\u001b[0;34m\u001b[0m\u001b[0;34m\u001b[0m\u001b[0m\n\u001b[0;32m---> 46\u001b[0;31m         \u001b[0max\u001b[0m\u001b[0;34m.\u001b[0m\u001b[0mplot\u001b[0m\u001b[0;34m(\u001b[0m\u001b[0msens_time\u001b[0m\u001b[0;34m,\u001b[0m \u001b[0mdf\u001b[0m\u001b[0;34m,\u001b[0m\u001b[0mlw\u001b[0m\u001b[0;34m=\u001b[0m\u001b[0;36m1.25\u001b[0m\u001b[0;34m,\u001b[0m \u001b[0mcolor\u001b[0m\u001b[0;34m=\u001b[0m\u001b[0;34m'teal'\u001b[0m\u001b[0;34m,\u001b[0m \u001b[0mlabel\u001b[0m\u001b[0;34m=\u001b[0m\u001b[0;34m'sensor response'\u001b[0m\u001b[0;34m)\u001b[0m\u001b[0;34m\u001b[0m\u001b[0;34m\u001b[0m\u001b[0m\n\u001b[0m\u001b[1;32m     47\u001b[0m \u001b[0;34m\u001b[0m\u001b[0m\n\u001b[1;32m     48\u001b[0m \u001b[0;34m\u001b[0m\u001b[0m\n",
      "\u001b[0;32m/Applications/anaconda3/lib/python3.8/site-packages/matplotlib/axes/_axes.py\u001b[0m in \u001b[0;36mplot\u001b[0;34m(self, scalex, scaley, data, *args, **kwargs)\u001b[0m\n\u001b[1;32m   1741\u001b[0m         \"\"\"\n\u001b[1;32m   1742\u001b[0m         \u001b[0mkwargs\u001b[0m \u001b[0;34m=\u001b[0m \u001b[0mcbook\u001b[0m\u001b[0;34m.\u001b[0m\u001b[0mnormalize_kwargs\u001b[0m\u001b[0;34m(\u001b[0m\u001b[0mkwargs\u001b[0m\u001b[0;34m,\u001b[0m \u001b[0mmlines\u001b[0m\u001b[0;34m.\u001b[0m\u001b[0mLine2D\u001b[0m\u001b[0;34m)\u001b[0m\u001b[0;34m\u001b[0m\u001b[0;34m\u001b[0m\u001b[0m\n\u001b[0;32m-> 1743\u001b[0;31m         \u001b[0mlines\u001b[0m \u001b[0;34m=\u001b[0m \u001b[0;34m[\u001b[0m\u001b[0;34m*\u001b[0m\u001b[0mself\u001b[0m\u001b[0;34m.\u001b[0m\u001b[0m_get_lines\u001b[0m\u001b[0;34m(\u001b[0m\u001b[0;34m*\u001b[0m\u001b[0margs\u001b[0m\u001b[0;34m,\u001b[0m \u001b[0mdata\u001b[0m\u001b[0;34m=\u001b[0m\u001b[0mdata\u001b[0m\u001b[0;34m,\u001b[0m \u001b[0;34m**\u001b[0m\u001b[0mkwargs\u001b[0m\u001b[0;34m)\u001b[0m\u001b[0;34m]\u001b[0m\u001b[0;34m\u001b[0m\u001b[0;34m\u001b[0m\u001b[0m\n\u001b[0m\u001b[1;32m   1744\u001b[0m         \u001b[0;32mfor\u001b[0m \u001b[0mline\u001b[0m \u001b[0;32min\u001b[0m \u001b[0mlines\u001b[0m\u001b[0;34m:\u001b[0m\u001b[0;34m\u001b[0m\u001b[0;34m\u001b[0m\u001b[0m\n\u001b[1;32m   1745\u001b[0m             \u001b[0mself\u001b[0m\u001b[0;34m.\u001b[0m\u001b[0madd_line\u001b[0m\u001b[0;34m(\u001b[0m\u001b[0mline\u001b[0m\u001b[0;34m)\u001b[0m\u001b[0;34m\u001b[0m\u001b[0;34m\u001b[0m\u001b[0m\n",
      "\u001b[0;32m/Applications/anaconda3/lib/python3.8/site-packages/matplotlib/axes/_base.py\u001b[0m in \u001b[0;36m__call__\u001b[0;34m(self, data, *args, **kwargs)\u001b[0m\n\u001b[1;32m    271\u001b[0m                 \u001b[0mthis\u001b[0m \u001b[0;34m+=\u001b[0m \u001b[0margs\u001b[0m\u001b[0;34m[\u001b[0m\u001b[0;36m0\u001b[0m\u001b[0;34m]\u001b[0m\u001b[0;34m,\u001b[0m\u001b[0;34m\u001b[0m\u001b[0;34m\u001b[0m\u001b[0m\n\u001b[1;32m    272\u001b[0m                 \u001b[0margs\u001b[0m \u001b[0;34m=\u001b[0m \u001b[0margs\u001b[0m\u001b[0;34m[\u001b[0m\u001b[0;36m1\u001b[0m\u001b[0;34m:\u001b[0m\u001b[0;34m]\u001b[0m\u001b[0;34m\u001b[0m\u001b[0;34m\u001b[0m\u001b[0m\n\u001b[0;32m--> 273\u001b[0;31m             \u001b[0;32myield\u001b[0m \u001b[0;32mfrom\u001b[0m \u001b[0mself\u001b[0m\u001b[0;34m.\u001b[0m\u001b[0m_plot_args\u001b[0m\u001b[0;34m(\u001b[0m\u001b[0mthis\u001b[0m\u001b[0;34m,\u001b[0m \u001b[0mkwargs\u001b[0m\u001b[0;34m)\u001b[0m\u001b[0;34m\u001b[0m\u001b[0;34m\u001b[0m\u001b[0m\n\u001b[0m\u001b[1;32m    274\u001b[0m \u001b[0;34m\u001b[0m\u001b[0m\n\u001b[1;32m    275\u001b[0m     \u001b[0;32mdef\u001b[0m \u001b[0mget_next_color\u001b[0m\u001b[0;34m(\u001b[0m\u001b[0mself\u001b[0m\u001b[0;34m)\u001b[0m\u001b[0;34m:\u001b[0m\u001b[0;34m\u001b[0m\u001b[0;34m\u001b[0m\u001b[0m\n",
      "\u001b[0;32m/Applications/anaconda3/lib/python3.8/site-packages/matplotlib/axes/_base.py\u001b[0m in \u001b[0;36m_plot_args\u001b[0;34m(self, tup, kwargs)\u001b[0m\n\u001b[1;32m    397\u001b[0m \u001b[0;34m\u001b[0m\u001b[0m\n\u001b[1;32m    398\u001b[0m         \u001b[0;32mif\u001b[0m \u001b[0mx\u001b[0m\u001b[0;34m.\u001b[0m\u001b[0mshape\u001b[0m\u001b[0;34m[\u001b[0m\u001b[0;36m0\u001b[0m\u001b[0;34m]\u001b[0m \u001b[0;34m!=\u001b[0m \u001b[0my\u001b[0m\u001b[0;34m.\u001b[0m\u001b[0mshape\u001b[0m\u001b[0;34m[\u001b[0m\u001b[0;36m0\u001b[0m\u001b[0;34m]\u001b[0m\u001b[0;34m:\u001b[0m\u001b[0;34m\u001b[0m\u001b[0;34m\u001b[0m\u001b[0m\n\u001b[0;32m--> 399\u001b[0;31m             raise ValueError(f\"x and y must have same first dimension, but \"\n\u001b[0m\u001b[1;32m    400\u001b[0m                              f\"have shapes {x.shape} and {y.shape}\")\n\u001b[1;32m    401\u001b[0m         \u001b[0;32mif\u001b[0m \u001b[0mx\u001b[0m\u001b[0;34m.\u001b[0m\u001b[0mndim\u001b[0m \u001b[0;34m>\u001b[0m \u001b[0;36m2\u001b[0m \u001b[0;32mor\u001b[0m \u001b[0my\u001b[0m\u001b[0;34m.\u001b[0m\u001b[0mndim\u001b[0m \u001b[0;34m>\u001b[0m \u001b[0;36m2\u001b[0m\u001b[0;34m:\u001b[0m\u001b[0;34m\u001b[0m\u001b[0;34m\u001b[0m\u001b[0m\n",
      "\u001b[0;31mValueError\u001b[0m: x and y must have same first dimension, but have shapes (515,) and (401, 1)"
     ]
    }
   ],
   "source": [
    "%run basics_sensorSignal.py\n",
    "# samprate, tsampling = srate, tsample\n",
    "figsize, fs = arg_fig['figsize'], arg_fig['fontsize']\n",
    "\n",
    "# .....................................................................................\n",
    "fig, ax = plt.subplots(figsize=figsize)\n",
    "fig.canvas.set_window_title(arg_fig['title'])\n",
    "\n",
    "ax.set_xlabel('Time / s', fontsize=fs), ax.set_ylabel('Analyte concentration', fontsize=fs)\n",
    "ax.set_ylim(-0.05, par_sens['max conc']*1.19)\n",
    "\n",
    "# target concentration\n",
    "ax.plot(dfconc, ':k', label='target concentration')\n",
    "\n",
    "# timestamps when conc is changing \n",
    "n, tsample, t = 0, list(), 0\n",
    "while t < tend:\n",
    "    t = tstart + n*D\n",
    "    tsample.append(tstart + n*D)\n",
    "    n +=1\n",
    "print(tsample)\n",
    "ddata, c_apparent = dict(), 0\n",
    "for en, t in enumerate(tsample):\n",
    "    # closest time step in concentration fluctuation\n",
    "    tc = min(dfconc.index, key=lambda x: abs(x - t))\n",
    "    if tc != dfconc.index[-1]:\n",
    "        print(tc, dfconc.loc[tc, 'signal'])\n",
    "        # find position in list for previous concentration\n",
    "        pos = [en for en in range(len(dfconc.index)) if dfconc.index[en] == tc][0]\n",
    "        tc_1, tc1 = dfconc.index[pos - 1], dfconc.index[pos + 1]\n",
    "        # update actual sensor measurement time +t\n",
    "        if en == 0:\n",
    "            sens_time = np.linspace(0, D, num=int((D - tstart_sens) / step + 1))\n",
    "        else:\n",
    "            sens_time = np.linspace(sens_time[-1], tc_1 + D, num=int((D - tstart_sens) / step + 1))\n",
    "        \n",
    "        # indicates the concentration change\n",
    "        ax.axvline(t, color='darkorange', lw=0.5)\n",
    "\n",
    "        # sensor signal response\n",
    "        df = sensor_response(t=tc, t_1=tc_1, dfconc=dfconc, c_nh3=par_sens['max conc'], \n",
    "                             sens_time0=sens_time0, k=par_sens['response para'], \n",
    "                             c_apparent=c_apparent)\n",
    "\n",
    "        ddata[tc], c_apparent = df, df['signal'].to_numpy()[-1]\n",
    "        ax.plot(sens_time, df,lw=1.25, color='teal', label='sensor response')\n",
    "\n",
    "\n",
    "#for en, t in enumerate(tsampling):\n",
    "#        # arrows indicating that the sensor starts to react to the surrounding\n",
    "#        ax.arrow(t, par_sens['max conc']*1.15, 0.0, (par_sens['max conc']-par_sens['max conc']*1.15)/2.5, fc=\"k\",\n",
    "#                 ec=\"k\", head_width=.8, head_length=0.1)\n",
    "\n",
    "ax.legend(['target concentration', 'sensor response'], loc=0, fontsize=fs * 0.7)\n",
    "plt.tight_layout(), sns.despine(), plt.grid(False)\n",
    "plt.show()"
   ]
  },
  {
   "cell_type": "code",
   "execution_count": 71,
   "id": "1d7bb447",
   "metadata": {},
   "outputs": [
    {
     "data": {
      "text/plain": [
       "array([ 0.  ,  0.05,  0.1 ,  0.15,  0.2 ,  0.25,  0.3 ,  0.35,  0.4 ,\n",
       "        0.45,  0.5 ,  0.55,  0.6 ,  0.65,  0.7 ,  0.75,  0.8 ,  0.85,\n",
       "        0.9 ,  0.95,  1.  ,  1.05,  1.1 ,  1.15,  1.2 ,  1.25,  1.3 ,\n",
       "        1.35,  1.4 ,  1.45,  1.5 ,  1.55,  1.6 ,  1.65,  1.7 ,  1.75,\n",
       "        1.8 ,  1.85,  1.9 ,  1.95,  2.  ,  2.05,  2.1 ,  2.15,  2.2 ,\n",
       "        2.25,  2.3 ,  2.35,  2.4 ,  2.45,  2.5 ,  2.55,  2.6 ,  2.65,\n",
       "        2.7 ,  2.75,  2.8 ,  2.85,  2.9 ,  2.95,  3.  ,  3.05,  3.1 ,\n",
       "        3.15,  3.2 ,  3.25,  3.3 ,  3.35,  3.4 ,  3.45,  3.5 ,  3.55,\n",
       "        3.6 ,  3.65,  3.7 ,  3.75,  3.8 ,  3.85,  3.9 ,  3.95,  4.  ,\n",
       "        4.05,  4.1 ,  4.15,  4.2 ,  4.25,  4.3 ,  4.35,  4.4 ,  4.45,\n",
       "        4.5 ,  4.55,  4.6 ,  4.65,  4.7 ,  4.75,  4.8 ,  4.85,  4.9 ,\n",
       "        4.95,  5.  ,  5.05,  5.1 ,  5.15,  5.2 ,  5.25,  5.3 ,  5.35,\n",
       "        5.4 ,  5.45,  5.5 ,  5.55,  5.6 ,  5.65,  5.7 ,  5.75,  5.8 ,\n",
       "        5.85,  5.9 ,  5.95,  6.  ,  6.05,  6.1 ,  6.15,  6.2 ,  6.25,\n",
       "        6.3 ,  6.35,  6.4 ,  6.45,  6.5 ,  6.55,  6.6 ,  6.65,  6.7 ,\n",
       "        6.75,  6.8 ,  6.85,  6.9 ,  6.95,  7.  ,  7.05,  7.1 ,  7.15,\n",
       "        7.2 ,  7.25,  7.3 ,  7.35,  7.4 ,  7.45,  7.5 ,  7.55,  7.6 ,\n",
       "        7.65,  7.7 ,  7.75,  7.8 ,  7.85,  7.9 ,  7.95,  8.  ,  8.05,\n",
       "        8.1 ,  8.15,  8.2 ,  8.25,  8.3 ,  8.35,  8.4 ,  8.45,  8.5 ,\n",
       "        8.55,  8.6 ,  8.65,  8.7 ,  8.75,  8.8 ,  8.85,  8.9 ,  8.95,\n",
       "        9.  ,  9.05,  9.1 ,  9.15,  9.2 ,  9.25,  9.3 ,  9.35,  9.4 ,\n",
       "        9.45,  9.5 ,  9.55,  9.6 ,  9.65,  9.7 ,  9.75,  9.8 ,  9.85,\n",
       "        9.9 ,  9.95, 10.  , 10.05, 10.1 , 10.15, 10.2 , 10.25, 10.3 ,\n",
       "       10.35, 10.4 , 10.45, 10.5 , 10.55, 10.6 , 10.65, 10.7 , 10.75,\n",
       "       10.8 , 10.85, 10.9 , 10.95, 11.  , 11.05, 11.1 , 11.15, 11.2 ,\n",
       "       11.25, 11.3 , 11.35, 11.4 , 11.45, 11.5 , 11.55, 11.6 , 11.65,\n",
       "       11.7 , 11.75, 11.8 , 11.85, 11.9 , 11.95, 12.  , 12.05, 12.1 ,\n",
       "       12.15, 12.2 , 12.25, 12.3 , 12.35, 12.4 , 12.45, 12.5 , 12.55,\n",
       "       12.6 , 12.65, 12.7 , 12.75, 12.8 , 12.85, 12.9 , 12.95, 13.  ,\n",
       "       13.05, 13.1 , 13.15, 13.2 , 13.25, 13.3 , 13.35, 13.4 , 13.45,\n",
       "       13.5 , 13.55, 13.6 , 13.65, 13.7 , 13.75, 13.8 , 13.85, 13.9 ,\n",
       "       13.95, 14.  , 14.05, 14.1 , 14.15, 14.2 , 14.25, 14.3 , 14.35,\n",
       "       14.4 , 14.45, 14.5 , 14.55, 14.6 , 14.65, 14.7 , 14.75, 14.8 ,\n",
       "       14.85, 14.9 , 14.95, 15.  , 15.05, 15.1 , 15.15, 15.2 , 15.25,\n",
       "       15.3 , 15.35, 15.4 , 15.45, 15.5 , 15.55, 15.6 , 15.65, 15.7 ,\n",
       "       15.75, 15.8 , 15.85, 15.9 , 15.95, 16.  , 16.05, 16.1 , 16.15,\n",
       "       16.2 , 16.25, 16.3 , 16.35, 16.4 , 16.45, 16.5 , 16.55, 16.6 ,\n",
       "       16.65, 16.7 , 16.75, 16.8 , 16.85, 16.9 , 16.95, 17.  , 17.05,\n",
       "       17.1 , 17.15, 17.2 , 17.25, 17.3 , 17.35, 17.4 , 17.45, 17.5 ,\n",
       "       17.55, 17.6 , 17.65, 17.7 , 17.75, 17.8 , 17.85, 17.9 , 17.95,\n",
       "       18.  , 18.05, 18.1 , 18.15, 18.2 , 18.25, 18.3 , 18.35, 18.4 ,\n",
       "       18.45, 18.5 , 18.55, 18.6 , 18.65, 18.7 , 18.75, 18.8 , 18.85,\n",
       "       18.9 , 18.95, 19.  , 19.05, 19.1 , 19.15, 19.2 , 19.25, 19.3 ,\n",
       "       19.35, 19.4 , 19.45, 19.5 , 19.55, 19.6 , 19.65, 19.7 , 19.75,\n",
       "       19.8 , 19.85, 19.9 , 19.95, 20.  ])"
      ]
     },
     "execution_count": 71,
     "metadata": {},
     "output_type": "execute_result"
    }
   ],
   "source": [
    "sens_time0"
   ]
  },
  {
   "cell_type": "code",
   "execution_count": 70,
   "id": "989b5c48",
   "metadata": {
    "scrolled": false
   },
   "outputs": [
    {
     "data": {
      "text/plain": [
       "array([ 0.        ,  0.05002779,  0.10005559,  0.15008338,  0.20011117,\n",
       "        0.25013897,  0.30016676,  0.35019455,  0.40022235,  0.45025014,\n",
       "        0.50027793,  0.55030573,  0.60033352,  0.65036131,  0.70038911,\n",
       "        0.7504169 ,  0.80044469,  0.85047248,  0.90050028,  0.95052807,\n",
       "        1.00055586,  1.05058366,  1.10061145,  1.15063924,  1.20066704,\n",
       "        1.25069483,  1.30072262,  1.35075042,  1.40077821,  1.450806  ,\n",
       "        1.5008338 ,  1.55086159,  1.60088938,  1.65091718,  1.70094497,\n",
       "        1.75097276,  1.80100056,  1.85102835,  1.90105614,  1.95108394,\n",
       "        2.00111173,  2.05113952,  2.10116732,  2.15119511,  2.2012229 ,\n",
       "        2.25125069,  2.30127849,  2.35130628,  2.40133407,  2.45136187,\n",
       "        2.50138966,  2.55141745,  2.60144525,  2.65147304,  2.70150083,\n",
       "        2.75152863,  2.80155642,  2.85158421,  2.90161201,  2.9516398 ,\n",
       "        3.00166759,  3.05169539,  3.10172318,  3.15175097,  3.20177877,\n",
       "        3.25180656,  3.30183435,  3.35186215,  3.40188994,  3.45191773,\n",
       "        3.50194553,  3.55197332,  3.60200111,  3.6520289 ,  3.7020567 ,\n",
       "        3.75208449,  3.80211228,  3.85214008,  3.90216787,  3.95219566,\n",
       "        4.00222346,  4.05225125,  4.10227904,  4.15230684,  4.20233463,\n",
       "        4.25236242,  4.30239022,  4.35241801,  4.4024458 ,  4.4524736 ,\n",
       "        4.50250139,  4.55252918,  4.60255698,  4.65258477,  4.70261256,\n",
       "        4.75264036,  4.80266815,  4.85269594,  4.90272374,  4.95275153,\n",
       "        5.00277932,  5.05280712,  5.10283491,  5.1528627 ,  5.20289049,\n",
       "        5.25291829,  5.30294608,  5.35297387,  5.40300167,  5.45302946,\n",
       "        5.50305725,  5.55308505,  5.60311284,  5.65314063,  5.70316843,\n",
       "        5.75319622,  5.80322401,  5.85325181,  5.9032796 ,  5.95330739,\n",
       "        6.00333519,  6.05336298,  6.10339077,  6.15341857,  6.20344636,\n",
       "        6.25347415,  6.30350195,  6.35352974,  6.40355753,  6.45358533,\n",
       "        6.50361312,  6.55364091,  6.6036687 ,  6.6536965 ,  6.70372429,\n",
       "        6.75375208,  6.80377988,  6.85380767,  6.90383546,  6.95386326,\n",
       "        7.00389105,  7.05391884,  7.10394664,  7.15397443,  7.20400222,\n",
       "        7.25403002,  7.30405781,  7.3540856 ,  7.4041134 ,  7.45414119,\n",
       "        7.50416898,  7.55419678,  7.60422457,  7.65425236,  7.70428016,\n",
       "        7.75430795,  7.80433574,  7.85436354,  7.90439133,  7.95441912,\n",
       "        8.00444691,  8.05447471,  8.1045025 ,  8.15453029,  8.20455809,\n",
       "        8.25458588,  8.30461367,  8.35464147,  8.40466926,  8.45469705,\n",
       "        8.50472485,  8.55475264,  8.60478043,  8.65480823,  8.70483602,\n",
       "        8.75486381,  8.80489161,  8.8549194 ,  8.90494719,  8.95497499,\n",
       "        9.00500278,  9.05503057,  9.10505837,  9.15508616,  9.20511395,\n",
       "        9.25514175,  9.30516954,  9.35519733,  9.40522513,  9.45525292,\n",
       "        9.50528071,  9.5553085 ,  9.6053363 ,  9.65536409,  9.70539188,\n",
       "        9.75541968,  9.80544747,  9.85547526,  9.90550306,  9.95553085,\n",
       "       10.00555864, 10.05558644, 10.10561423, 10.15564202, 10.20566982,\n",
       "       10.25569761, 10.3057254 , 10.3557532 , 10.40578099, 10.45580878,\n",
       "       10.50583658, 10.55586437, 10.60589216, 10.65591996, 10.70594775,\n",
       "       10.75597554, 10.80600334, 10.85603113, 10.90605892, 10.95608671,\n",
       "       11.00611451, 11.0561423 , 11.10617009, 11.15619789, 11.20622568,\n",
       "       11.25625347, 11.30628127, 11.35630906, 11.40633685, 11.45636465,\n",
       "       11.50639244, 11.55642023, 11.60644803, 11.65647582, 11.70650361,\n",
       "       11.75653141, 11.8065592 , 11.85658699, 11.90661479, 11.95664258,\n",
       "       12.00667037, 12.05669817, 12.10672596, 12.15675375, 12.20678155,\n",
       "       12.25680934, 12.30683713, 12.35686492, 12.40689272, 12.45692051,\n",
       "       12.5069483 , 12.5569761 , 12.60700389, 12.65703168, 12.70705948,\n",
       "       12.75708727, 12.80711506, 12.85714286, 12.90717065, 12.95719844,\n",
       "       13.00722624, 13.05725403, 13.10728182, 13.15730962, 13.20733741,\n",
       "       13.2573652 , 13.307393  , 13.35742079, 13.40744858, 13.45747638,\n",
       "       13.50750417, 13.55753196, 13.60755976, 13.65758755, 13.70761534,\n",
       "       13.75764314, 13.80767093, 13.85769872, 13.90772651, 13.95775431,\n",
       "       14.0077821 , 14.05780989, 14.10783769, 14.15786548, 14.20789327,\n",
       "       14.25792107, 14.30794886, 14.35797665, 14.40800445, 14.45803224,\n",
       "       14.50806003, 14.55808783, 14.60811562, 14.65814341, 14.70817121,\n",
       "       14.758199  , 14.80822679, 14.85825459, 14.90828238, 14.95831017,\n",
       "       15.00833797, 15.05836576, 15.10839355, 15.15842135, 15.20844914,\n",
       "       15.25847693, 15.30850472, 15.35853252, 15.40856031, 15.4585881 ,\n",
       "       15.5086159 , 15.55864369, 15.60867148, 15.65869928, 15.70872707,\n",
       "       15.75875486, 15.80878266, 15.85881045, 15.90883824, 15.95886604,\n",
       "       16.00889383, 16.05892162, 16.10894942, 16.15897721, 16.209005  ,\n",
       "       16.2590328 , 16.30906059, 16.35908838, 16.40911618, 16.45914397,\n",
       "       16.50917176, 16.55919956, 16.60922735, 16.65925514, 16.70928293,\n",
       "       16.75931073, 16.80933852, 16.85936631, 16.90939411, 16.9594219 ,\n",
       "       17.00944969, 17.05947749, 17.10950528, 17.15953307, 17.20956087,\n",
       "       17.25958866, 17.30961645, 17.35964425, 17.40967204, 17.45969983,\n",
       "       17.50972763, 17.55975542, 17.60978321, 17.65981101, 17.7098388 ,\n",
       "       17.75986659, 17.80989439, 17.85992218, 17.90994997, 17.95997777,\n",
       "       18.01000556, 18.06003335, 18.11006115, 18.16008894, 18.21011673,\n",
       "       18.26014452, 18.31017232, 18.36020011, 18.4102279 , 18.4602557 ,\n",
       "       18.51028349, 18.56031128, 18.61033908, 18.66036687, 18.71039466,\n",
       "       18.76042246, 18.81045025, 18.86047804, 18.91050584, 18.96053363,\n",
       "       19.01056142, 19.06058922, 19.11061701, 19.1606448 , 19.2106726 ,\n",
       "       19.26070039, 19.31072818, 19.36075598, 19.41078377, 19.46081156,\n",
       "       19.51083936, 19.56086715, 19.61089494, 19.66092273, 19.71095053,\n",
       "       19.76097832, 19.81100611, 19.86103391, 19.9110617 , 19.96108949,\n",
       "       20.01111729, 20.06114508, 20.11117287, 20.16120067, 20.21122846,\n",
       "       20.26125625, 20.31128405, 20.36131184, 20.41133963, 20.46136743,\n",
       "       20.51139522, 20.56142301, 20.61145081, 20.6614786 , 20.71150639,\n",
       "       20.76153419, 20.81156198, 20.86158977, 20.91161757, 20.96164536,\n",
       "       21.01167315, 21.06170094, 21.11172874, 21.16175653, 21.21178432,\n",
       "       21.26181212, 21.31183991, 21.3618677 , 21.4118955 , 21.46192329,\n",
       "       21.51195108, 21.56197888, 21.61200667, 21.66203446, 21.71206226,\n",
       "       21.76209005, 21.81211784, 21.86214564, 21.91217343, 21.96220122,\n",
       "       22.01222902, 22.06225681, 22.1122846 , 22.1623124 , 22.21234019,\n",
       "       22.26236798, 22.31239578, 22.36242357, 22.41245136, 22.46247916,\n",
       "       22.51250695, 22.56253474, 22.61256253, 22.66259033, 22.71261812,\n",
       "       22.76264591, 22.81267371, 22.8627015 , 22.91272929, 22.96275709,\n",
       "       23.01278488, 23.06281267, 23.11284047, 23.16286826, 23.21289605,\n",
       "       23.26292385, 23.31295164, 23.36297943, 23.41300723, 23.46303502,\n",
       "       23.51306281, 23.56309061, 23.6131184 , 23.66314619, 23.71317399,\n",
       "       23.76320178, 23.81322957, 23.86325737, 23.91328516, 23.96331295,\n",
       "       24.01334074, 24.06336854, 24.11339633, 24.16342412, 24.21345192,\n",
       "       24.26347971, 24.3135075 , 24.3635353 , 24.41356309, 24.46359088,\n",
       "       24.51361868, 24.56364647, 24.61367426, 24.66370206, 24.71372985,\n",
       "       24.76375764, 24.81378544, 24.86381323, 24.91384102, 24.96386882,\n",
       "       25.01389661, 25.0639244 , 25.1139522 , 25.16397999, 25.21400778,\n",
       "       25.26403558, 25.31406337, 25.36409116, 25.41411895, 25.46414675,\n",
       "       25.51417454, 25.56420233, 25.61423013, 25.66425792, 25.71428571])"
      ]
     },
     "execution_count": 70,
     "metadata": {},
     "output_type": "execute_result"
    }
   ],
   "source": [
    "sens_time"
   ]
  },
  {
   "cell_type": "code",
   "execution_count": null,
   "id": "3cc15c85",
   "metadata": {},
   "outputs": [],
   "source": []
  },
  {
   "cell_type": "code",
   "execution_count": null,
   "id": "9c5ef132",
   "metadata": {},
   "outputs": [],
   "source": []
  },
  {
   "cell_type": "code",
   "execution_count": null,
   "id": "cf23b4e1",
   "metadata": {},
   "outputs": [],
   "source": []
  },
  {
   "cell_type": "code",
   "execution_count": null,
   "id": "57555259",
   "metadata": {},
   "outputs": [],
   "source": []
  },
  {
   "cell_type": "markdown",
   "id": "76810906",
   "metadata": {},
   "source": [
    "Backup"
   ]
  },
  {
   "cell_type": "code",
   "execution_count": null,
   "id": "85abd290",
   "metadata": {
    "scrolled": false
   },
   "outputs": [],
   "source": [
    "# gloabl parameter\n",
    "c_nh3 = 2.5                          # maximal ammonia concentration \n",
    "# concentration fluctuation\n",
    "tstart, tend, step = 0, 60*3, 0.05   # sec; time range of fluctuation\n",
    "nP = 3.5                             # number of cycles per period\n",
    "# sensor settings\n",
    "tstart_sens = 0                      # sec; start time range of sensor response            \n",
    "t_resp = 50.                         # sensor response time\n",
    "t_sample = 13.                      # sampling rate of the sensor; sec\n",
    "\n",
    "# .............................................\n",
    "# target concentration\n",
    "dfconc, D, P, trange = _target_concentration(nP=nP, c_nh3=c_nh3, tstart=tstart, tstop=tend)\n",
    "print('puls width: ', D)\n",
    "# .............................................\n",
    "# period (in s) when a measurement point is taken\n",
    "tsample, srate = _sampling_time(trange=trange, Wpulse=D, tstart=tstart, tend=tend,\n",
    "                                sampling_rate=t_sample)\n",
    "print('sensor sampling rate: ', srate)\n",
    "# sensor response\n",
    "sens_time0 = np.linspace(tstart_sens, srate, num=int((srate-tstart_sens)/step+1))\n",
    "\n",
    "# ........................................................................................\n",
    "# plotting \n",
    "par_sens = dict({'max conc': c_nh3, 'response time': t_resp, 'samling rate': srate})\n",
    "arg_fig = dict({'figsize': (6,3), 'fontsize': 10,\n",
    "                'title': 'sensor response to fluctuating analyte concentration'})\n",
    "# .................................................................................\n",
    "fig, ax = plot_sensorresponse(dfconc=dfconc, sens_time0=sens_time0, tsampling=tsample, \n",
    "                              samprate=srate, tstart_sens=tstart_sens, step=step, nP=nP, \n",
    "                              par_sens=par_sens, arg_fig=arg_fig)"
   ]
  },
  {
   "cell_type": "code",
   "execution_count": null,
   "id": "5f42fd5f",
   "metadata": {},
   "outputs": [],
   "source": []
  },
  {
   "cell_type": "code",
   "execution_count": null,
   "id": "ad84c188",
   "metadata": {},
   "outputs": [],
   "source": []
  }
 ],
 "metadata": {
  "kernelspec": {
   "display_name": "Python 3",
   "language": "python",
   "name": "python3"
  },
  "language_info": {
   "codemirror_mode": {
    "name": "ipython",
    "version": 3
   },
   "file_extension": ".py",
   "mimetype": "text/x-python",
   "name": "python",
   "nbconvert_exporter": "python",
   "pygments_lexer": "ipython3",
   "version": "3.8.8"
  }
 },
 "nbformat": 4,
 "nbformat_minor": 5
}
