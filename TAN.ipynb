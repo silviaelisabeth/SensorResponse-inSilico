{
 "cells": [
  {
   "cell_type": "code",
   "execution_count": 52,
   "id": "c6e66809",
   "metadata": {},
   "outputs": [
    {
     "name": "stdout",
     "output_type": "stream",
     "text": [
      "Using matplotlib backend: MacOSX\n"
     ]
    }
   ],
   "source": [
    "%run basics_sensorSignal.py\n",
    "%matplotlib"
   ]
  },
  {
   "cell_type": "markdown",
   "id": "75455eb4",
   "metadata": {},
   "source": [
    "#### TAN = c(NH$_3$ + c(NH$_4^+$)"
   ]
  },
  {
   "cell_type": "markdown",
   "id": "afdff4c1",
   "metadata": {},
   "source": [
    "sensor response is sigmoidal. It mainly depends on the response time "
   ]
  },
  {
   "cell_type": "code",
   "execution_count": null,
   "id": "b650334c",
   "metadata": {},
   "outputs": [],
   "source": [
    "c_nh3, step = 2.5, 0.25\n",
    "t = np.linspace(0, 60, num=int(100/step+1))\n",
    "\n",
    "par_sens1 = dict({'max conc': c_nh3, 'response time': 10., 'background signal': 5E-6})\n",
    "par_sens2 = dict({'max conc': c_nh3, 'response time': 50., 'background signal': 5E-6})\n",
    "# ...........................................\n",
    "dfSig1, t1_10, t1_90 = _sensor_response(t=t, par_sens=par_sens1, y=0, function='gompertz',\n",
    "                                       direction='increase')\n",
    "dfSig2, t2_10, t2_90 = _sensor_response(t=t, par_sens=par_sens2, y=0, function='gompertz',\n",
    "                                       direction='increase')\n",
    "dfSig3, t3_10, t3_90 = _sensor_response(t=t, par_sens=par_sens1, y=0, function='gompertz',\n",
    "                                       direction='decline')\n",
    "dfSig4, t4_10, t4_90 = _sensor_response(t=t, par_sens=par_sens2, y=0, function='gompertz',\n",
    "                                       direction='decline')\n",
    "\n",
    "\n",
    "# .........................................................................\n",
    "# plot sensor response\n",
    "fig, ax = plt.subplots(figsize=(7,4))\n",
    "ax.set_title('Sensor response', loc='left')\n",
    "\n",
    "# sensor 1\n",
    "ax.plot(t, dfSig1, 'k', label='fast response')\n",
    "ax.axhline(dfSig1['signal'].max()*0.1, lw=0.5, ls=':', color='darkorange'), \n",
    "ax.axhline(dfSig1['signal'].max()*0.9, lw=0.5, ls=':', color='darkorange')\n",
    "\n",
    "# sensor 2\n",
    "ax.plot(t, dfSig2, ':k', label='slow response')\n",
    "ax.axhline(dfSig2['signal'].max()*0.1, lw=0.5, ls=':', color='crimson'), \n",
    "ax.axhline(dfSig2['signal'].max()*0.9, lw=0.5, ls=':', color='crimson')\n",
    "\n",
    "# sensor 3\n",
    "ax.plot(t, dfSig3, 'slategrey', label='fast response - decline')\n",
    "\n",
    "# sensor 4\n",
    "ax.plot(t, dfSig4, color='slategrey', ls=':', label='slow response - decline')\n",
    "\n",
    "ax.set_xlabel('Time / s'), ax.set_ylabel('Signal / V')\n",
    "plt.legend(loc='lower right', bbox_to_anchor=(1., 0.35))\n",
    "plt.xlim(-5, t[-1]*1.05)\n",
    "sns.despine()"
   ]
  },
  {
   "cell_type": "code",
   "execution_count": null,
   "id": "4da6bd14",
   "metadata": {},
   "outputs": [],
   "source": []
  },
  {
   "cell_type": "markdown",
   "id": "3f3e31bc",
   "metadata": {},
   "source": [
    "sensor signal depends on concentration as well"
   ]
  },
  {
   "cell_type": "code",
   "execution_count": null,
   "id": "f93933b3",
   "metadata": {},
   "outputs": [],
   "source": [
    "start_time, end_time = 0, 60\n",
    "nsample, nper = 10*(end_time-start_time), 3\n",
    "dfconc1, D1, P1, t1 = _target_concentration(c_nh3=c_nh3, tstart=start_time, tstop=end_time)\n",
    "dfconc2, D2, P2, t2 = _target_concentration(N=nsample, nP=nper, c_nh3=c_nh3, \n",
    "                                            tstart=start_time, tstop=end_time)\n",
    "\n",
    "# .................................\n",
    "fs = 10\n",
    "fig1, ax1 = plt.subplots(figsize=(7,3))\n",
    "ax1.set_xlabel('Time / s', fontsize=fs)\n",
    "ax1.set_ylabel('Analyte concentration', fontsize=fs)\n",
    "ax1.plot(dfconc1, color='k', lw=1., marker='.', fillstyle='none', \n",
    "         label='N:{:.0f}, period: {:.0f}s, freq: 1'.format(end_time-start_time, P1))\n",
    "ax1.plot(dfconc2, color='darkorange', marker='.', fillstyle='none', lw=0.75,\n",
    "         label='N:{:.0f}, period: {:.0f}s, freq: {:.0f}'.format(nsample, P1, nper))\n",
    "ax1.legend(loc=0, fontsize=fs*0.7) #, ax1.set_ylim(-0.05, 1.6)\n",
    "plt.tight_layout(), sns.despine()\n",
    "plt.show()"
   ]
  },
  {
   "cell_type": "code",
   "execution_count": null,
   "id": "1b58e3ed",
   "metadata": {},
   "outputs": [],
   "source": []
  },
  {
   "cell_type": "markdown",
   "id": "e291fd3d",
   "metadata": {},
   "source": [
    "time to combine\n",
    "\n",
    "signal ~ concentration(t) * response time * some other factors"
   ]
  },
  {
   "cell_type": "code",
   "execution_count": 60,
   "id": "2ebda371",
   "metadata": {},
   "outputs": [
    {
     "name": "stdout",
     "output_type": "stream",
     "text": [
      "puls width:  25.714285714285715\n"
     ]
    }
   ],
   "source": [
    "# gloabl parameter\n",
    "c_nh3 = 2.5                          # maximal ammonia concentration \n",
    "# concentration fluctuation\n",
    "tstart, tend, step = 0, 60*3, 0.05   # sec; time range of fluctuation\n",
    "nP = 3.5                             # number of cycles per period\n",
    "# sensor settings\n",
    "tstart_sens = 0                      # sec; start time range of sensor response            \n",
    "t_resp = 12.5                          # sensor response time\n",
    "t_sample = 10.                       # sampling rate of the sensor; sec\n",
    "\n",
    "# ........................................................................................\n",
    "# target concentration\n",
    "dfconc, D, P, trange = _target_concentration(nP=nP, c_nh3=c_nh3, tstart=tstart, tstop=tend)\n",
    "print('puls width: ', D)\n",
    "\n",
    "# .............................................\n",
    "# sensor time range\n",
    "sens_time0 = np.linspace(0, D, num=int((D - tstart_sens) / step + 1))\n",
    "\n",
    "# .............................................\n",
    "# plotting \n",
    "par_meas = dict({'start':tstart, 'stop':tend})\n",
    "par_sens = dict({'max conc': c_nh3, 'response time': t_resp, 'background signal': 5E-5})\n",
    "arg_fig = dict({'figsize': (6,3), 'fontsize': 10,\n",
    "                'title': 'sensor response to fluctuating analyte concentration'})"
   ]
  },
  {
   "cell_type": "code",
   "execution_count": 61,
   "id": "f1ef2c19",
   "metadata": {},
   "outputs": [],
   "source": [
    "fig, ax, ddata = plot_sensorresponse(dfconc=dfconc, sens_time0=sens_time0, step=step, D=D, \n",
    "                                     tstart_sens=tstart_sens, par_meas=par_meas, \n",
    "                                     par_sens=par_sens, arg_fig=arg_fig, plotCheck=False)"
   ]
  },
  {
   "cell_type": "code",
   "execution_count": null,
   "id": "1a4abfc5",
   "metadata": {},
   "outputs": [],
   "source": []
  }
 ],
 "metadata": {
  "kernelspec": {
   "display_name": "Python 3",
   "language": "python",
   "name": "python3"
  },
  "language_info": {
   "codemirror_mode": {
    "name": "ipython",
    "version": 3
   },
   "file_extension": ".py",
   "mimetype": "text/x-python",
   "name": "python",
   "nbconvert_exporter": "python",
   "pygments_lexer": "ipython3",
   "version": "3.8.8"
  }
 },
 "nbformat": 4,
 "nbformat_minor": 5
}
