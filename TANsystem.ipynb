{
 "cells": [
  {
   "cell_type": "code",
   "execution_count": 2,
   "id": "fb45acd8",
   "metadata": {},
   "outputs": [
    {
     "name": "stdout",
     "output_type": "stream",
     "text": [
      "Using matplotlib backend: MacOSX\n"
     ]
    }
   ],
   "source": [
    "from matplotlib.offsetbox import AnchoredOffsetbox, TextArea, HPacker, VPacker\n",
    "\n",
    "%run basics_sensorSignal.py\n",
    "%matplotlib"
   ]
  },
  {
   "cell_type": "markdown",
   "id": "ce755f71",
   "metadata": {},
   "source": [
    "sammelsurium an verschiedenen funktionen"
   ]
  },
  {
   "cell_type": "code",
   "execution_count": 3,
   "id": "6ebf0247",
   "metadata": {},
   "outputs": [],
   "source": [
    "def henderson_hasselbalch(c_nh3, c_nh4, pKa=9.25):\n",
    "    \"\"\" Returns the pH depending on the concentrations of NH3 and NH4+ \"\"\"\n",
    "    return pKa + np.log(c_nh3/c_nh4)\n",
    "\n",
    "def henderson_nh3(pH, c_nh4, pKa=9.25):\n",
    "    \"\"\" Returns the NH3 concentration depending on the pH and the concentrations of NH4+ \"\"\"\n",
    "    return c_nh4 * 10**(pH-pKa)\n",
    "\n",
    "def total_ammonia(c_nh4, pH, pKa=9.25):\n",
    "    \"\"\" Returns the total ammonia concentration depending on the pH and the \n",
    "    concentrations of NH4+ \"\"\"\n",
    "    if isinstance(pH, list):\n",
    "        tan = [c_nh4 * (1+ 10**(ph_i - pKa)) for ph_i in ls_pH]  \n",
    "    else:\n",
    "        tan = c_nh4 * (1 + 10**(pH-pKa))\n",
    "    return tan\n",
    "\n",
    "def partial_concNH3(c_nh4, pH, pKa=9.25):\n",
    "    \"\"\" Returns the percentage of NH4+ concentration depending on the pH \"\"\"\n",
    "    if isinstance(pH, list):\n",
    "        numerator = [c_nh4 * 10**(ph_i - pKa) for ph_i in ls_pH]\n",
    "        denominator = [c_nh4 * (1+10**(ph_i - pKa)) for ph_i in ls_pH]\n",
    "        c_nh3 = [n/d for (n,d) in zip(numerator,denominator)]\n",
    "    else:\n",
    "        c_nh3 = (c_nh4 * (10**(pH-pKa))) / (c_nh4 * (1+10**(pH-pKa))) \n",
    "    return c_nh3\n",
    "\n",
    "def int2pH(intF, int_max, pKa):\n",
    "    #precheck - intensity out of range\n",
    "    f_min = round(int_max * np.exp(-pKa)/ (1 + np.exp(-pKa)), 5)      # pH >= 0\n",
    "    f_max = round(int_max * np.exp(14-pKa)/ (1 + np.exp(14-pKa)), 5)  # pH <= 0\n",
    "    \n",
    "    ls_ph = list()\n",
    "    for f in intF:\n",
    "        if f > f_min and f < f_max:\n",
    "            c = np.log(f / (int_max - f))\n",
    "            ls_ph.append(round(pKa + c, 5))\n",
    "        elif f < f_min:\n",
    "            ls_ph.append(0)\n",
    "        else:\n",
    "            ls_ph.append(14)\n",
    "    return ls_ph\n",
    "\n",
    "def Nernst_equation(ls_ph, E0, T=25):\n",
    "    # global parameter\n",
    "    n, R, F = 1, 8.314, 96485 # [J/mol*K], [C/mol]\n",
    "    \n",
    "    faq = 2.303* R*(T+273.15) / (n*F)\n",
    "    # logarithmic of activity equals pH \n",
    "    return E0 - faq * ls_ph\n",
    "\n",
    "def Nernst_equation_invert(E, E0, T=25):\n",
    "    # global parameter\n",
    "    n, R, F = 1, 8.314, 96485 # [J/mol*K], [C/mol]\n",
    "    return (E0 - E/1000) / (2.303*R*(T+273.15)) *n*F"
   ]
  },
  {
   "cell_type": "markdown",
   "id": "d1c73773",
   "metadata": {},
   "source": [
    "simulate NH3 vs NH4 system"
   ]
  },
  {
   "cell_type": "code",
   "execution_count": 4,
   "id": "80bc506d",
   "metadata": {},
   "outputs": [],
   "source": [
    "pKa = 9.25                  # pKa of ammonia\n",
    "c_nh4_GG = 2.3e-6           # concentration of ammonium ion at the pKa; in mol/L\n",
    "tan = 2*c_nh4_GG\n",
    "pH = np.linspace(0, 14, num=int(14/0.01+1))          # pH values 0-14\n",
    "\n",
    "alpha = partial_concNH3(c_nh4=c_nh4_GG, pH=pH, pKa=9.25)\n",
    "df_alpha = pd.DataFrame(alpha, index=pH, columns=['nh4'])\n",
    "xnew = [round(i, 2) for i in df_alpha.index]\n",
    "df_alpha.index = xnew"
   ]
  },
  {
   "cell_type": "code",
   "execution_count": 6,
   "id": "b28da008",
   "metadata": {},
   "outputs": [],
   "source": [
    "fs = 11\n",
    "\n",
    "fig, ax = plt.subplots(figsize=(5,3))\n",
    "fig.canvas.set_window_title('Ammonia vs. Ammonium')\n",
    "ax.set_xlabel('pH', fontsize=fs), ax.set_ylabel('alpha [%]', fontsize=fs)\n",
    "\n",
    "ax.plot(pH, alpha, color='#196E94', lw=1., label='NH$_4^+$')\n",
    "ax.plot(pH, 1-alpha, color='#FFA02E', lw=1., label='NH$_3$')\n",
    "\n",
    "ax.axvline(pKa, color='k', ls=':', lw=1.)\n",
    "ax.axhline(0.5, color='k', ls=':', lw=1.)\n",
    "ax.legend(loc='upper center', bbox_to_anchor=(1,0.9), frameon=True, fancybox=True, \n",
    "          fontsize=fs*0.7)\n",
    "\n",
    "ax.set_xlim(0, 14)\n",
    "sns.despine()\n",
    "plt.tight_layout()"
   ]
  },
  {
   "cell_type": "code",
   "execution_count": null,
   "id": "054fa7a5",
   "metadata": {},
   "outputs": [],
   "source": []
  },
  {
   "cell_type": "markdown",
   "id": "2005e064",
   "metadata": {},
   "source": [
    "simulate experiment -  pH changes over time"
   ]
  },
  {
   "cell_type": "code",
   "execution_count": 7,
   "id": "9d086621",
   "metadata": {},
   "outputs": [
    {
     "name": "stdout",
     "output_type": "stream",
     "text": [
      "Select: (1) Random pH gradient or (2) ramp function? >2\n",
      "Targeted pH changes: [0, 1, 2, 3, 4, 5, 6, 7, 8, 9, 10, 11, 12, 13, 14]\n"
     ]
    }
   ],
   "source": [
    "# time intervals pH fluctuations - step function\n",
    "t_plateau = 30                     # int, seconds for one pH value\n",
    "pH_steps = list(np.arange(0, 15))  # steps of pH changes; linearly or randomly\n",
    "\n",
    "random = input('Select: (1) Random pH gradient or (2) ramp function? >')\n",
    "if random == '1' or random == 'random':\n",
    "    np.random.shuffle(pH_steps)\n",
    "elif random == '2' or random == 'ramp':\n",
    "    pH_steps = pH_steps\n",
    "else:\n",
    "    raise ValueError('Choose between 1 and 2')\n",
    "\n",
    "print('Targeted pH changes:', pH_steps)\n",
    "\n",
    "#create time range\n",
    "l = [[ph_i] * t_plateau for ph_i in pH_steps]\n",
    "ls_pH = l[0]\n",
    "lspH = [ls_pH.extend(l_i) for l_i in l[1:]]\n",
    "\n",
    "#finalize target pH and concentrations\n",
    "df_pH = pd.DataFrame(ls_pH, columns=['pH'])\n",
    "for i in df_pH.index:\n",
    "    df_pH.loc[i, 'alpha_nh4 [%]'] = df_alpha['nh4'].loc[df_pH.loc[i, 'pH']]\n",
    "    df_pH.loc[i, 'alpha_nh3 [%]'] = 1-df_alpha['nh4'].loc[df_pH.loc[i, 'pH']]\n",
    "df_pH.index.name = 'time / s'\n",
    "ls_time = df_pH.index"
   ]
  },
  {
   "cell_type": "code",
   "execution_count": 26,
   "id": "3fff3deb",
   "metadata": {
    "scrolled": true
   },
   "outputs": [],
   "source": [
    "#pH sensor response\n",
    "sig_max = 270       # maximal signal response at maximal NH4+ concentration in mV \n",
    "sig_bgd = 20        # background signal / offset in mV at 0M NH4+\n",
    "tresp_pH = 20       # response time of pH sensor in seconds\n",
    "para_pH = dict({'max conc': sig_max*1e-3, 'response time': tresp_pH, \n",
    "                'background signal': sig_bgd*1e-3})\n",
    "\n",
    "# electrochemical pH sensor calibration\n",
    "# compare: https://www.vernier.com/2018/04/06/the-theory-behind-ph-measurements/\n",
    "dfSig_calib = pd.DataFrame(Nernst_equation(ls_ph=np.array(pH_steps), T=25, \n",
    "                                           E0=(sig_bgd+sig_max)/1000),#+sig_bgd/1000, \n",
    "                           index=pH_steps, columns=['signal / mV'])*1000\n",
    "dfSig_calib.index.name = 'pH'"
   ]
  },
  {
   "cell_type": "code",
   "execution_count": 27,
   "id": "59a1f1a9",
   "metadata": {},
   "outputs": [],
   "source": [
    "# calibration plot pH sensor\n",
    "fig, ax = plt.subplots(figsize=(5,3))\n",
    "fig.canvas.set_window_title('electrochemical pH sensor')\n",
    "ax.set_xlabel('pH', fontsize=fs), ax.set_ylabel('Potential / mV', fontsize=fs)\n",
    "\n",
    "ax.plot(dfSig_calib, lw=1., color='k')\n",
    "\n",
    "sns.despine()\n",
    "plt.tight_layout()"
   ]
  },
  {
   "cell_type": "code",
   "execution_count": 28,
   "id": "f63ecd74",
   "metadata": {},
   "outputs": [],
   "source": [
    "# pH changes -> target potential\n",
    "dfSig_steps = pd.DataFrame(Nernst_equation(ls_ph=np.array(df_pH['pH'].to_numpy()), T=25, \n",
    "                                           E0=(sig_bgd+sig_max)/1000), #+sig_bgd/1000,\n",
    "                           index=df_pH['pH'].index, columns=['target potential / mV'])*1000\n",
    "dfpH_target = pd.concat([df_pH['pH'], dfSig_steps], axis=1)\n",
    "\n",
    "# plot target pH and potential\n",
    "fig, ax = plt.subplots(figsize=(5,3))\n",
    "fig.canvas.set_window_title('pH sensor - target pH and potential')\n",
    "ax1 = ax.twinx()\n",
    "ax.set_xlabel('Time / s'), ax.set_ylabel('Potential / mV')\n",
    "ax1.set_ylabel('pH', color='gray')\n",
    "ax.plot(dfpH_target['target potential / mV'], color='k', ls='-.', lw=1.)\n",
    "ax1.plot(dfpH_target['pH'], lw=1., ls=':', color='gray')\n",
    "plt.subplots_adjust(left=0.15, right=0.89, bottom=0.16, top=0.92)"
   ]
  },
  {
   "cell_type": "code",
   "execution_count": 29,
   "id": "7f533ba2",
   "metadata": {},
   "outputs": [],
   "source": [
    "step = 0.01\n",
    "# sensor response --> make a function out of it\n",
    "dsig = dict()\n",
    "for n in range(len(pH_steps)):\n",
    "    if n == 0:\n",
    "        y_1 = sig_bgd\n",
    "    else:\n",
    "        y_1 = dsig[n-1]['signal / mV'].to_numpy()[-1]\n",
    "    sdiff = dfpH_target['target potential / mV'].loc[n*t_plateau]-y_1\n",
    "    \n",
    "    if n == 0:\n",
    "        # 1st sensor response - always differnet\n",
    "        t_sens = np.arange(0, t_plateau-1, step)\n",
    "        y0 = _gompertz_curve_v1(x=t_sens, t90=tresp_pH, tau=1e-5, pstart=sig_bgd,\n",
    "                                slope='increase', s_diff=sdiff)\n",
    "        dfSig = pd.DataFrame(y0, index=t_sens, columns=['signal / mV'])\n",
    "    else:\n",
    "        # other sensor responses behave similar\n",
    "        t_sens_ = np.arange(0, t_plateau+step, step)\n",
    "          \n",
    "        # different cases - decline or increase\n",
    "        if sdiff < 0:\n",
    "            y1 = _gompertz_curve_v1(x=t_sens_, t90=tresp_pH, tau=1e-5, pstart=y_1, \n",
    "                                    slope='decline', s_diff=np.abs(sdiff))\n",
    "        else:\n",
    "            y1 = _gompertz_curve_v1(x=t_sens_, t90=tresp_pH, tau=1e-5, pstart=y_1, \n",
    "                                    slope='increase', s_diff=np.abs(sdiff))\n",
    "        t_sens1 = t_sens_+n*t_plateau+(n-1)*step-1\n",
    "        dfSig = pd.DataFrame(y1, index=t_sens1, columns=['signal / mV'])\n",
    "    dsig[n] = dfSig\n",
    "    \n",
    "sens_response = pd.concat(dsig)\n",
    "xnew = sens_response.index.levels[1]\n",
    "sens_response.index = xnew\n",
    "\n",
    "#---------------------------------------------------------\n",
    "# recalculation of pH values\n",
    "y = Nernst_equation_invert(E=sens_response['signal / mV'], T=25, E0=(sig_bgd+sig_max)/1000)\n",
    "dfph_re = pd.DataFrame([round(i, 2) for i in y], index=sens_response.index)\n",
    "dfph_re.columns = ['pH recalc.']\n"
   ]
  },
  {
   "cell_type": "code",
   "execution_count": 30,
   "id": "ec7cb940",
   "metadata": {},
   "outputs": [],
   "source": [
    "figR, axR = plt.subplots(figsize=(5.8,4))\n",
    "figR.canvas.set_window_title('pH sensor response')\n",
    "axT = axR.twinx()\n",
    "axR.set_xlabel('Time / s', fontsize=fs), axR.set_ylabel('Potential / mV', fontsize=fs)\n",
    "axT.set_ylabel('pH', fontsize=fs, color='gray')\n",
    "#..................\n",
    "# target potential\n",
    "lns1 = axR.plot(dfpH_target['target potential / mV'], color='k', ls='-.', lw=1., \n",
    "                label='target potential / mV')\n",
    "# sensor response\n",
    "lns2 = axR.plot(sens_response, color='#196E94', lw=1., label='sensor response / mV')\n",
    "\n",
    "# re-calculated pH\n",
    "lns3 = axT.plot(dfpH_target['pH'], lw=1., ls=':', color='gray', label='target pH')\n",
    "lns4 = axT.plot(dfph_re, color='#FFA02E', lw=1., label='recalc. pH')\n",
    "\n",
    "#..................\n",
    "# combine legend\n",
    "lns = lns1+lns2+lns3+lns4\n",
    "labs = [l.get_label() for l in lns]\n",
    "axR.legend(lns, labs, ncol=4, loc='upper center', bbox_to_anchor=(0.5, 1.1), \n",
    "           fontsize=fs*0.7)\n",
    "\n",
    "#..................\n",
    "plt.tight_layout()"
   ]
  },
  {
   "cell_type": "code",
   "execution_count": 32,
   "id": "f1cc29dc",
   "metadata": {},
   "outputs": [],
   "source": [
    "# to be updated!!!!\n",
    "# NH3 sensor is a measured signal as well!\n"
   ]
  },
  {
   "cell_type": "code",
   "execution_count": null,
   "id": "d48976f2",
   "metadata": {},
   "outputs": [],
   "source": []
  },
  {
   "cell_type": "code",
   "execution_count": 31,
   "id": "a8caa356",
   "metadata": {},
   "outputs": [],
   "source": [
    "# determine NH4+ concentration according to measured pH\n",
    "nh4_pc = pd.DataFrame(df_alpha.loc[dfph_re['pH recalc.'].to_numpy()]['nh4'].to_numpy(),\n",
    "                      index=dfph_re.index, columns=['nh4 % '])*100\n",
    "nh3_pc = 100-nh4_pc\n",
    "nh3_pc.columns = ['nh3 %']\n",
    "\n",
    "# --------------------------------------------------\n",
    "fig_re, ax_re = plt.subplots(figsize=(5,5), nrows=2, sharex=True)\n",
    "axT = ax_re[0].twinx()\n",
    "\n",
    "axT.set_ylabel('TAN', fontsize=fs)\n",
    "ax_re[0].set_ylabel('pH', fontsize=fs, color='white')\n",
    "\n",
    "ax_re[1].set_ylabel('pH', fontsize=fs)\n",
    "ax_re[1].set_xlabel('Time / s', fontsize=fs)\n",
    "\n",
    "fig_re.canvas.set_window_title('TAN simulation')\n",
    "ax_re[0].plot(nh4_pc, lw=1., color='#196E94', label='NH$_4^+$')\n",
    "ax_re[0].plot(nh3_pc, lw=1., color='#FFA02E', label='NH$_3$')\n",
    "axT.plot(pd.concat([nh3_pc, nh4_pc], axis=1).sum(axis=1), lw=1., color='k', ls='-.',\n",
    "              label='TAN')\n",
    "\n",
    "ax_re[1].plot(dfph_re, color='k', lw=1.)\n",
    "\n",
    "ax_re[0].spines['top'].set_visible(False), axT.spines['top'].set_visible(False)\n",
    "ax_re[1].spines['top'].set_visible(False), ax_re[1].spines['right'].set_visible(False)\n",
    "\n",
    "# labelling\n",
    "ax_re[0].text(-100., 5, 'alpha [%]', color='k', rotation=90)\n",
    "ax_re[0].text(-100., 47, 'NH$_4^+$', color='#196E94', rotation=90)\n",
    "ax_re[0].text(-100., 65, 'and', color='k', rotation=90)\n",
    "ax_re[0].text(-100., 83, 'NH$_3$', color='#FFA02E', rotation=90)\n",
    "\n",
    "plt.tight_layout(pad=1)"
   ]
  },
  {
   "cell_type": "code",
   "execution_count": null,
   "id": "698825c5",
   "metadata": {},
   "outputs": [],
   "source": []
  },
  {
   "cell_type": "code",
   "execution_count": null,
   "id": "1522ede3",
   "metadata": {},
   "outputs": [],
   "source": []
  }
 ],
 "metadata": {
  "kernelspec": {
   "display_name": "Python 3",
   "language": "python",
   "name": "python3"
  },
  "language_info": {
   "codemirror_mode": {
    "name": "ipython",
    "version": 3
   },
   "file_extension": ".py",
   "mimetype": "text/x-python",
   "name": "python",
   "nbconvert_exporter": "python",
   "pygments_lexer": "ipython3",
   "version": "3.8.8"
  }
 },
 "nbformat": 4,
 "nbformat_minor": 5
}
